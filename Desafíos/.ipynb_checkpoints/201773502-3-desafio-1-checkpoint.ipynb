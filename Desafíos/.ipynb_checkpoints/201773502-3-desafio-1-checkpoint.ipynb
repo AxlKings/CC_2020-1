{
 "cells": [
  {
   "cell_type": "markdown",
   "metadata": {
    "colab_type": "text",
    "id": "qimgVFB3r58e"
   },
   "source": [
    "# INF-285 / ILI-285\n",
    "## Desafío 1, v1.01\n",
    "### SCT 2020-1"
   ]
  },
  {
   "cell_type": "markdown",
   "metadata": {
    "colab_type": "text",
    "id": "_pik3saquHQa"
   },
   "source": [
    "# Introducción\n",
    "\n",
    "En el siguiente desafío estudiaremos el comportamiento de $2$ algoritmos para obtener el punto fijo $r$ de funciones $g(x)$, es decir, $r=g(r)$.\n",
    "Es importante destacar que el punto fijo de una función no es lo mismo que la raíz de una función, sin embargo sí están muy relacionados.\n",
    "Solo a modo de recordatorio, la raíz de una función $f(x)$ es encontrar un $\\hat{x}$ tal que $f(\\hat{x})=0$.\n",
    "\n",
    "## Iteración de Punto Fijo\n",
    "\n",
    "El algoritmo llamado Iteración de Punto Fijo (IPF o *FPI*, *Fixed Point Iteration* del inglés) se define de la siguiente forma:\n",
    "\\begin{align*}\n",
    "  x_0 &= \\text{\"Initial guess''},\\\\\n",
    "  x_{i+1} &= g(x_i), \\quad i\\in {1,2,3,\\dots}.\n",
    "\\end{align*}\n",
    "\n",
    "El cual puede o no puede converger a su punto fijo $r=g(r)$ dependiendo del comportamiento de $g(x)$ entorno al punto fijo $r$.\n",
    "En el caso de que la iteración de punto fijo diverja, uno debiera buscar otra forma de encontrar el punto fijo, la otra manera se explica a continuación.\n",
    "\n",
    "## Método de la Bisección\n",
    "\n",
    "En el caso de que la iteración de punto fijo diverja o simplemente converja muy lento, podemos usar convenientemente el Método de la Bisección.\n",
    "Para poder utilizar el Método de la Bisección, debemos adaptarlo, dado que es un algoritmo diseñado para buscar raíces de una función, no puntos fijos de una función.\n",
    "La adaptación consiste en escribir convenientemente la búsqueda de un punto fijo como la búsqueda de una raíz de la siguiente forma,\n",
    "\\begin{equation}\n",
    "  f(x) = x - g(x),\n",
    "\\end{equation}\n",
    "\n",
    "donde podemos comprobar que si evaluamos la función $f(x)$ en el punto fijo de $g(x)$ obtenemos la equivalencia,\n",
    "\\begin{equation}\n",
    "  f(r) = r - g(r)=0.\n",
    "\\end{equation}\n",
    "\n",
    "Por lo tanto, ¡hemos exitosamente conectado un problema de punto fijo con un problema de búsqueda de ceros!\n",
    "\n",
    "**De esta forma ambos métodos podrían ser útiles si necesitamos encontrar puntos fijos de funciones**.\n",
    "\n",
    "Comentario: ¿Puede visualizar ahora el có\n",
    "mo utilizar búsqueda de puntos fijos para encontrar raíces de funciones?"
   ]
  },
  {
   "cell_type": "markdown",
   "metadata": {
    "colab_type": "text",
    "id": "eEBrFbq50kES"
   },
   "source": [
    "# Ejercicio\n"
   ]
  },
  {
   "cell_type": "code",
   "execution_count": 22,
   "metadata": {
    "colab": {},
    "colab_type": "code",
    "id": "qGeqEAB2mNug"
   },
   "outputs": [],
   "source": [
    "# Bibliotecas necesarias\n",
    "import numpy as np\n",
    "import matplotlib.pyplot as plt"
   ]
  },
  {
   "cell_type": "markdown",
   "metadata": {
    "colab_type": "text",
    "id": "qluMnQPHy_OI"
   },
   "source": [
    "Se solicita implementar una rutina ```obtener_punto_fijo``` que reciba la función $g(x)$, un intervalo $[a, b]$ y un ```n_iter```, que indica el máximo número de iteraciones que pueden utilizar los métodos de bisección y punto fijo.\n",
    "Notar que los métodos deben retornar la secuencia de soluciones obtenidas hasta que se logra la convergencia, es necesario que cuando se logre el punto fijo no se retorne una secuencia de valores repetidos, si no que se trunque el vector de salida hasta donde empezó a repetirse el valor respectivo, de otra forma se estará dividiendo por $0$ en la explicación incluida más adelante.\n",
    "\n",
    "El retorno de la rutina debe ser la mejor solución aproximada ```x_sol```, y una estructura del tipo \n",
    "```[('biseccion', tasa_bisección), ('punto fijo', tasa_punto_fijo)]```, donde se reporta el algoritmo (en el orden solicitado) y la tasa de convergencia respectiva.\n",
    "Por lo tanto la firma de la función debería quedar como:\n",
    "```python\n",
    "  def obtener_punto_fijo(g, a, b, n_iter):\n",
    "    # Su algoritmo...\n",
    "\n",
    "    resultado = [('biseccion', tasa_biseccion), ('punto fijo', tasa_punto_fijo)]\n",
    "    x_sol = ...\n",
    "    return x_sol, resultado\n",
    "```\n",
    "\n",
    "La idea es que su algoritmo permita retornar la solución asociada al método con mejor *tasa de convergencia*."
   ]
  },
  {
   "cell_type": "markdown",
   "metadata": {
    "colab_type": "text",
    "id": "VtpyCvWM00H0"
   },
   "source": [
    "Para que pueda calcular la *tasa de convergencia* se pone a disposición la función ```obtener_tasa(ratio)```, que recibe un arreglo con los cocientes de la estimación numérica de los errores en cada iteración. Los cuales deben ser obtenidos de la siguiente forma:\n",
    "\\begin{equation}\n",
    "  ratio_i = \\frac{|x_{i+1} - x_i|}{|x_i - x_{i-1}|}\n",
    "\\end{equation}"
   ]
  },
  {
   "cell_type": "code",
   "execution_count": 23,
   "metadata": {
    "colab": {},
    "colab_type": "code",
    "id": "gMnDnwQ-H0KW"
   },
   "outputs": [],
   "source": [
    "def obtener_tasa(ratio):\n",
    "    hist, bin_edges = np.histogram(ratio, bins=10000)\n",
    "    k = np.argmax(hist)\n",
    "    return np.round((bin_edges[k] + bin_edges[k+1]) / 2, 5)"
   ]
  },
  {
   "cell_type": "markdown",
   "metadata": {
    "colab_type": "text",
    "id": "ow0jA-pR2TNe"
   },
   "source": [
    "Además, para que pueda probar el funcionamiento de su procedimiento, se ponen a disposición las siguientes funciones y los intevalos donde debe buscar el punto fijo:"
   ]
  },
  {
   "cell_type": "code",
   "execution_count": 24,
   "metadata": {
    "colab": {},
    "colab_type": "code",
    "id": "hMuaMxSdmSIR"
   },
   "outputs": [],
   "source": [
    "g1 = lambda x: np.cos(x) # Intervalo: [0, 1]\n",
    "g2 = lambda x: 3 / (x-2) # Intervalo: [-3, 0]\n",
    "g3 = lambda x: (x + 10.) ** (1 / 4) # Intervalo: [0, 2]\n",
    "g4 = lambda x: 3 + 2 * np.sin(x) # Intervalo: [-5, 5]\n",
    "g5 = lambda x: np.cos(x) / np.exp(x) # Intervalo: [0, 4]\n",
    "g6 = lambda x: (np.exp(x) + x ** 3 + 4 * x ** 2 + 2 * x + 2) / (x ** 2 + 3 * x - 3) # Intervalo: [-1, 0]\n",
    "g7 = lambda x: np.exp((np.exp(-x) / 3)) # Intervalo: [0, 2]\n",
    "g8 = lambda x: -0.5 * x + 3 / 2 # Intervalo: [0, 1]\n",
    "g9 = lambda x: (x ** 3 - 5) / 2 # Intervalo: [2, 3]\n",
    "g10 = lambda x: -1 + 1.5 * x # Intervalo: [0,10]\n",
    "g11 = lambda x: 0.7 + 1.7 * x # Intervalo: [-10,10]"
   ]
  },
  {
   "cell_type": "markdown",
   "metadata": {
    "colab_type": "text",
    "id": "InfGOnZqKDIF"
   },
   "source": [
    "Se incluye a continuación el enunciado de la función que usted debe entregar:"
   ]
  },
  {
   "cell_type": "code",
   "execution_count": 25,
   "metadata": {
    "colab": {},
    "colab_type": "code",
    "id": "Gn06N_slnCa0"
   },
   "outputs": [],
   "source": [
    "def bisection(f, a, b, n_iter):\n",
    "    \n",
    "    \"\"\"\n",
    "    La idea del algoritmo es obtener todos los valores que va tomando x a medida que se va iterando para encontrar\n",
    "    el c tal que f(c) = 0.\n",
    "    \"\"\"\n",
    "    \n",
    "    x_values = [] # Se define una lista que guardará los valores de x\n",
    "    while(n_iter > 0): # Se verifica si ya se alcanzó el número de intentos\n",
    "        if(f(a)*f(b) < 0): # Se verifica que haya una raíz dentro del intervalo\n",
    "            x = (a+b)/2\n",
    "            mid = f(x)\n",
    "            x_values.append(x)\n",
    "            if(mid*f(a) < 0): # Se verifica si la raíz está dentro del intervalo (a,(a+b)/2] \n",
    "                if(b == (a+b)/2): # Se establece esta condición de término para evitar valores repetidos en x_values\n",
    "                    break\n",
    "                b = (a+b)/2 # Se actualiza el valor de b\n",
    "            else: # En caso contrario la raíz está en [(a+b)/2,b)\n",
    "                if(a == (a+b)/2): # Evitar valores repetidos nuevamente\n",
    "                    break\n",
    "                a = (a+b)/2 # Se actualiza el valor de a\n",
    "        elif(f(a)*f(b) == 0):\n",
    "            x_values.append(a) if(f(a)==0) else x_values.append(b) # En caso que la raíz esté en algún borde agrega el x correspondiente\n",
    "            break\n",
    "        n_iter -= 1\n",
    "    return x_values"
   ]
  },
  {
   "cell_type": "code",
   "execution_count": 26,
   "metadata": {
    "colab": {},
    "colab_type": "code",
    "id": "5U7xY9GmxIPg"
   },
   "outputs": [],
   "source": [
    "def fpi(g, x_0, n_iter):\n",
    "    \n",
    "    \"\"\"\n",
    "    La idea del algoritmo es obtener todos los valores que va tomando x a medida que se va iterando para encontrar\n",
    "    el r tal que r = g(r). \n",
    "    \"\"\"\n",
    "    \n",
    "    x_values = [] # Se define una lista que guardará los valores de x\n",
    "    while(n_iter > 0): # Se verifica si ya se alcanzó el número de intentos\n",
    "        try:\n",
    "            if(x_0 != g(x_0)): # Se verifica si se alcanzó el r = g(r)\n",
    "                x_values.append(x_0) # Se guarda el valor de x en la lista\n",
    "                x_0 = g(x_0)# Se actualiza el valor x_0\n",
    "            else:\n",
    "                return [x_0] # En caso de encontrar el r = g(r) se retorna el valor como lista para concatenar.\n",
    "            n_iter -= 1\n",
    "        except OverflowError: # En caso de haber overflow se detiene la iteración (pasa cuando la función diverge)\n",
    "            break\n",
    "    return x_values"
   ]
  },
  {
   "cell_type": "code",
   "execution_count": 27,
   "metadata": {},
   "outputs": [],
   "source": [
    "def calc_ratio(x_values):\n",
    "    \n",
    "    \"\"\"\n",
    "    Función que retorna una lista con los ratios de los valores de x obtenidos en los algoritmos anteriores.\n",
    "    \"\"\"\n",
    "    \n",
    "    ratio_values = []\n",
    "    for i in range(len(x_values)-2): \n",
    "        ratio_values.append((abs(x_values[i+2]-x_values[i+1]))/abs(x_values[i+1]-x_values[i])) # Fórmula del ratio\n",
    "    return ratio_values"
   ]
  },
  {
   "cell_type": "code",
   "execution_count": 28,
   "metadata": {
    "colab": {},
    "colab_type": "code",
    "id": "0ug6PrYzKIaM"
   },
   "outputs": [],
   "source": [
    "def obtener_punto_fijo(g, a, b, n_iter):\n",
    "    \n",
    "    \"\"\"\n",
    "    Función que retorna el valor de x más cercano al r = g(r), utilizando los dos algoritmos definidos\n",
    "    anteriormente, de manera que se escoge el que tenga mejor tasa de convergencia. Seguido a este \n",
    "    se encuentran las tasas de convergencia de cada algoritmo.\n",
    "    \"\"\"\n",
    "    \n",
    "    # Calcular utilizando los métodos\n",
    "    g_x = lambda x: g(x)- x # Se adapta la función para el algoritmo de bisección\n",
    "    biseccion = bisection(g_x, a, b, n_iter)\n",
    "    ipf = fpi(g,(a+b)/2, n_iter) # Se utiliza el promedio del intervalo como initial guess para el algoritmo FPI\n",
    "    tasa_biseccion = None # Se establece por defecto un valor null para la tasa de bisección\n",
    "                          # En caso de que el algoritmo de bisección falle, se dejará ese valor null\n",
    "    #Calcular tasas\n",
    "    if(biseccion != []): # Se verifica que el algoritmo de bisección haya funcionado\n",
    "        ratio_bis = calc_ratio(biseccion)\n",
    "        tasa_biseccion = obtener_tasa(ratio_bis) # Se calcula su tasa de convergencia\n",
    "    ratio_ipf = calc_ratio(ipf) \n",
    "    tasa_punto_fijo = obtener_tasa(ratio_ipf) # Se calcula la tasa de convergencia para el FPI\n",
    "    resultado = [('biseccion', tasa_biseccion), ('punto fijo', tasa_punto_fijo)]\n",
    "    \n",
    "    # Elegir que solución es mejor de acuerdo a la tasa calculada\n",
    "    if(tasa_biseccion == None or tasa_biseccion >= tasa_punto_fijo): # Se verifica si bisección falló o ifp es mejor\n",
    "        x_sol = ipf[-1] # En ese caso, la solución corresponde al último valor de x encontrado por ifp\n",
    "    else:\n",
    "        x_sol = biseccion[-1] # En caso contrario, corresponde al último valor de x encontrado por bisección\n",
    "    return x_sol, resultado"
   ]
  },
  {
   "cell_type": "code",
   "execution_count": 29,
   "metadata": {},
   "outputs": [
    {
     "name": "stdout",
     "output_type": "stream",
     "text": [
      "(0.7390851332151607, [('biseccion', 0.49998), ('punto fijo', 5e-05)])\n",
      "(-1.0, [('biseccion', 0.49998), ('punto fijo', 5e-05)])\n",
      "(1.8555845286409378, [('biseccion', 0.49998), ('punto fijo', 5e-05)])\n",
      "(3.0943834130492776, [('biseccion', 0.49998), ('punto fijo', 0.99995)])\n",
      "(0.5177573636824583, [('biseccion', 0.49998), ('punto fijo', 0.81266)])\n",
      "(-0.579158906050837, [('biseccion', 0.49998), ('punto fijo', 5e-05)])\n",
      "(1.1154480172165406, [('biseccion', 0.49998), ('punto fijo', 5e-05)])\n",
      "(1.0, [('biseccion', 5e-05), ('punto fijo', 5e-05)])\n",
      "(2.094551481542327, [('biseccion', 0.50002), ('punto fijo', 2.965715439225302e+26)])\n",
      "(2.0, [('biseccion', 0.50003), ('punto fijo', 1.5)])\n",
      "(-1.0, [('biseccion', 0.50003), ('punto fijo', 1.7)])\n"
     ]
    }
   ],
   "source": [
    "print(obtener_punto_fijo(g1,0,1,100))\n",
    "print(obtener_punto_fijo(g2,-3,0,100))\n",
    "print(obtener_punto_fijo(g3,0,2,100))\n",
    "print(obtener_punto_fijo(g4,-5,5,100))\n",
    "print(obtener_punto_fijo(g5,0,4,100))\n",
    "print(obtener_punto_fijo(g6,-1,0,100))\n",
    "print(obtener_punto_fijo(g7,0,2,100))\n",
    "print(obtener_punto_fijo(g8,0,1,100))\n",
    "print(obtener_punto_fijo(g9,2,3,100))\n",
    "print(obtener_punto_fijo(g10,0,10,100))\n",
    "print(obtener_punto_fijo(g11,-10,10,100))"
   ]
  },
  {
   "cell_type": "code",
   "execution_count": null,
   "metadata": {},
   "outputs": [],
   "source": []
  }
 ],
 "metadata": {
  "colab": {
   "collapsed_sections": [],
   "name": "desafio_1.ipynb",
   "provenance": []
  },
  "kernelspec": {
   "display_name": "Python 3",
   "language": "python",
   "name": "python3"
  },
  "language_info": {
   "codemirror_mode": {
    "name": "ipython",
    "version": 3
   },
   "file_extension": ".py",
   "mimetype": "text/x-python",
   "name": "python",
   "nbconvert_exporter": "python",
   "pygments_lexer": "ipython3",
   "version": "3.8.2"
  }
 },
 "nbformat": 4,
 "nbformat_minor": 1
}
