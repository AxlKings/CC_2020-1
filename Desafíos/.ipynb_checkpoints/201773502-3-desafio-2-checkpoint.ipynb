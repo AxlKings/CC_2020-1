{
 "cells": [
  {
   "cell_type": "markdown",
   "metadata": {
    "colab_type": "text",
    "id": "uPbvxarIuRu9"
   },
   "source": [
    "# Instrucciones\n",
    "\n",
    "- El desafío es individual, por lo cual se considera que todo el código entregado es de elaboración propia y no ha sido compartido de forma alguna.\n",
    "- Las consultas sobre el desafío se deben realizar por medio de la plataforma Aula. **No está permitido publicar código en consultas de Aula**.\n",
    "- El desafío debe ser realizado en Jupyter Notebook (Python3) utilizando este archivo como base.\n",
    "- Debe utilizar arreglos de ```NumPy``` junto a las funciones y bibliotecas que se ponen a disposición en este archivo.\n",
    "- Se debe respetar las firmas de las funciones, sus parámetros y retornos. Para eso se incluye un detalle de cada función tanto de las entregadas como las que deberá implementar. En caso de no seguir estas instrucciones, el desafío no podrá evaluarse.\n",
    "- Se evaluará la correcta utilización de librerias ```NumPy```, ```SciPy```, entre otras, así como la correcta implementación de algoritmos de forma vectorizada.\n",
    "- Evitar la impresión de mensajes salvo que se solicite en el enunciado.\n",
    "- El archivo de entrega debe denominarse **ROL-desafio-numero.ipynb**. **De no respetarse este formato existirá un descuento de 50 puntos**\n",
    "- La fecha de entrega es el **miércoles 27 de Mayo a las 10:00 hrs**,  posteriormente existirá un descuento lineal hasta las 11:00 hrs del mismo día."
   ]
  },
  {
   "cell_type": "code",
   "execution_count": 1,
   "metadata": {
    "colab": {},
    "colab_type": "code",
    "id": "VYPmwmXt7KBK"
   },
   "outputs": [],
   "source": [
    "# Libraries\n",
    "import time # For time profiling\n",
    "import numpy as np # Linear algebra and data structure\n",
    "import matplotlib.pyplot as plt # Plots\n",
    "from scipy import linalg as spla # Linear Algebra"
   ]
  },
  {
   "cell_type": "markdown",
   "metadata": {
    "colab_type": "text",
    "id": "QZCaaiXpY5bZ"
   },
   "source": [
    "# Introducción \n",
    "\n",
    "En el siguiente desafio estudiaremos la complejidad temporal de resolver sistemas de ecuaciones lineales utilizando: la matriz inversa, PALU, Cholesky, y el _solver_ de NumPy. \n",
    "Para poder obtener la complejidad temporal de forma experimental se deberá medir el tiempo que les toma a cada uno de los métodos en resolver un sistema de ecuaciones de tamaño $n \\times n$. \n",
    "\n",
    "## Recordatorio\n",
    "\n",
    "### Sistema de ecuaciones lineales\n",
    "\n",
    "\\begin{equation}\n",
    "  A \\mathbf{x} = \\mathbf{b}\n",
    "\\end{equation}\n",
    "\n",
    "### Algoritmo de resolución utilizando la inversa\n",
    "\n",
    "\n",
    "1. $B=A^{-1}$\n",
    "2. $\\mathbf{x} = B\\,\\mathbf{b}$\n",
    "3. Retornar $\\mathbf{x}$\n",
    "\n",
    "### Resolución utilizando $PA=LU$\n",
    "\n",
    "\\begin{equation}\n",
    "  \\begin{split}\n",
    "    A\\, \\mathbf{x} & = \\mathbf{b} \\\\\n",
    "    PA\\, \\mathbf{x} & = P\\,\\mathbf{b} \\\\\n",
    "    LU\\, \\mathbf{x} & = P\\, \\mathbf{b} \\\\\n",
    "    L\\, \\mathbf{c} & = P\\, \\mathbf{b}\n",
    "  \\end{split}\n",
    "\\end{equation}\n",
    "\n",
    "Algoritmo,\n",
    "1. Obtener descomposición PALU: $PA=LU$ \n",
    "2. Resolver para $\\mathbf{c}$: $L\\,\\mathbf{c} = P\\, \\mathbf{b}$\n",
    "3. Resolver para $\\mathbf{x}$: $U\\,\\mathbf{x} = \\mathbf{c}$\n",
    "4. Retornar $\\mathbf{x}$\n",
    "\n",
    "### Resolución utilizando Cholesky\n",
    "\n",
    "\\begin{equation}\n",
    "  \\begin{split}\n",
    "    A \\, \\mathbf{x} & = \\mathbf{b} \\\\\n",
    "    R^T\\,R \\,\\mathbf{x} & = \\mathbf{b}\n",
    "  \\end{split}\n",
    "\\end{equation}\n",
    "\n",
    "Algoritmo,\n",
    "1. Obtener descomposición de Cholesky: $A=R^T\\,R$\n",
    "2. Resolver para $\\mathbf{c}$: $R^T\\mathbf{c} = \\mathbf{b}$\n",
    "3. Resolver para $\\mathbf{x}$: $R\\,\\mathbf{x} = \\mathbf{c}$\n",
    "4. Retornar $\\mathbf{x}$\n"
   ]
  },
  {
   "cell_type": "markdown",
   "metadata": {
    "colab_type": "text",
    "id": "Flb_INxvuCEz"
   },
   "source": [
    "# Ejercicio"
   ]
  },
  {
   "cell_type": "markdown",
   "metadata": {
    "colab_type": "text",
    "id": "IJsGwhUx1leR"
   },
   "source": [
    "Midiendo el tiempo que demora la resolución de sistemas de ecuaciones lineales para distintos tamaños, se puede estimar la complejidad temporal en función de su tamaño, es decir $n$.\n",
    "\n",
    "Para generar sistemas de ecuaciones lineales, usted dispone de la función  ```generateLinearSystem(n)``` que recibe como argumento un número entero $n$ y retorna una matriz $A\\in\\mathbb{R}^{n\\times n}$ definida positiva y un vector $\\mathbf{b}\\in\\mathbb{R}^n$ aleatorio.\n",
    "A modo de referencia: ¿Qué propiedades tiene la matriz construida? ¿Cual sería la solución del sistema de ecuaciones lineales?"
   ]
  },
  {
   "cell_type": "code",
   "execution_count": 2,
   "metadata": {
    "colab": {},
    "colab_type": "code",
    "id": "-CyjYu1S8aUt"
   },
   "outputs": [],
   "source": [
    "def generateLinearSystem(n):\n",
    "    \"\"\"\n",
    "    Parameters\n",
    "    ----------\n",
    "    n       : int\n",
    "            System of linear equations size\n",
    "\n",
    "    Returns\n",
    "    -------\n",
    "    A       : (n, n) array\n",
    "            Positive definite matrix with random values\n",
    "    b       : (n, ) array\n",
    "            RHS vector\n",
    "    \"\"\"\n",
    "    # Matrix generation\n",
    "    A = np.random.rand(n, n)\n",
    "    A = np.dot(A.T, A) # Symmetric matrix\n",
    "    A += np.eye(n) # Diagonally dominant \n",
    "\n",
    "    # RHS generation\n",
    "    b = np.dot(A, np.ones(n))\n",
    "\n",
    "    return A, b"
   ]
  },
  {
   "cell_type": "markdown",
   "metadata": {
    "colab_type": "text",
    "id": "eMZSy34CsL-B"
   },
   "source": [
    "A continuación se entregan las funciones que implementan los 4 algoritmos mencionados anteriormente:"
   ]
  },
  {
   "cell_type": "code",
   "execution_count": 3,
   "metadata": {
    "colab": {},
    "colab_type": "code",
    "id": "CCuI1Q1NIHdb"
   },
   "outputs": [],
   "source": [
    "def solveInverse(A, b):\n",
    "    \"\"\"\n",
    "    Parameters\n",
    "    ----------\n",
    "    A       : (n, n) array\n",
    "            Positive definite matrix with random values\n",
    "    b       : (n, ) array\n",
    "            RHS vector\n",
    "\n",
    "    Returns\n",
    "    -------\n",
    "    x       : (n, ) array\n",
    "            System of linear equations solution\n",
    "    \"\"\"\n",
    "    # Inverse matrix\n",
    "    B = np.linalg.inv(A)\n",
    "\n",
    "    # Get solution\n",
    "    x = np.dot(B, b)\n",
    "\n",
    "    return x"
   ]
  },
  {
   "cell_type": "code",
   "execution_count": 4,
   "metadata": {
    "colab": {},
    "colab_type": "code",
    "id": "Q7995WqzA1v-"
   },
   "outputs": [],
   "source": [
    "def solvePALU(A, b):\n",
    "    \"\"\"\n",
    "    Parameters\n",
    "    ----------\n",
    "    A       : (n, n) array\n",
    "            Positive definite matrix with random values\n",
    "    b       : (n, ) array\n",
    "            RHS vector\n",
    "\n",
    "    Returns\n",
    "    -------\n",
    "    x       : (n, ) array\n",
    "            System of linear equations solution\n",
    "    \"\"\"\n",
    "    # PA=LU factorization\n",
    "    P, L, U = spla.lu(A)\n",
    "\n",
    "    # Vector permutation\n",
    "    Pb = np.dot(P, b)\n",
    "\n",
    "    # Forward substitution\n",
    "    c = spla.solve_triangular(L, Pb, lower=True)\n",
    "\n",
    "    # Backward substituion\n",
    "    x = spla.solve_triangular(U, c)\n",
    "\n",
    "    return x"
   ]
  },
  {
   "cell_type": "code",
   "execution_count": 5,
   "metadata": {
    "colab": {},
    "colab_type": "code",
    "id": "ranM1T-3BDUx"
   },
   "outputs": [],
   "source": [
    "def solveCholesky(A, b):\n",
    "    \"\"\"\n",
    "    Parameters\n",
    "    ----------\n",
    "    A       : (n, n) array\n",
    "            Positive definite matrix with random values\n",
    "    b       : (n, ) array\n",
    "            RHS vector\n",
    "\n",
    "    Returns\n",
    "    -------\n",
    "    x       : (n, ) array\n",
    "            System of linear equations solution\n",
    "    \"\"\"\n",
    "    # Cholesky decomposition\n",
    "    # Warning: R in Scipy is different from the classnotes, but it is the same idea.\n",
    "    R = np.linalg.cholesky(A)\n",
    "\n",
    "    # Forward substitution\n",
    "    c = spla.solve_triangular(R, b, lower=True)\n",
    "\n",
    "    # Backward substitution\n",
    "    x = spla.solve_triangular(R.T, c)\n",
    "\n",
    "    return x"
   ]
  },
  {
   "cell_type": "code",
   "execution_count": 6,
   "metadata": {
    "colab": {},
    "colab_type": "code",
    "id": "2BYABYpesAZz"
   },
   "outputs": [],
   "source": [
    "def solveDirect(A, b):\n",
    "    \"\"\"\n",
    "    Parameters\n",
    "    ----------\n",
    "    A       : (n, n) array\n",
    "            Positive definite matrix with random values\n",
    "    b       : (n, ) array\n",
    "            RHS vector\n",
    "\n",
    "    Returns\n",
    "    -------\n",
    "    x       : (n, ) array\n",
    "            System of linear equations solution\n",
    "    \"\"\"\n",
    "    x = np.linalg.solve(A, b)\n",
    "    return x"
   ]
  },
  {
   "cell_type": "markdown",
   "metadata": {
    "colab_type": "text",
    "id": "MBIhWWbhgcbG"
   },
   "source": [
    "A continuación, se entrega la función ```obtainComputationTimes(solver, Ns, Ne)```, la cual obtiene el tiempo de computación utilizado en la ejecución por el algoritmo ```solver``` en resolver un sistema de ecuaciones lineales de tamaño $Ns[i]\\times Ns[i]$, para todo $i$. Además se puede incluir un parámetro adicional, $N_e$, que define el número de veces que se repite el experimento para obtener una mejor aproximación y reducir los efectos de computaciones concurrentes que puedan afectar los tiempos de computación. Mientras mayor es $N_e$ mejor es la estimación pero toma mayor tiempo la ejecución."
   ]
  },
  {
   "cell_type": "code",
   "execution_count": 168,
   "metadata": {
    "colab": {},
    "colab_type": "code",
    "id": "rGlRXWVrE7Yn"
   },
   "outputs": [],
   "source": [
    "def obtainComputationTimes(solver, Ns, Ne=10):\n",
    "    \"\"\"\n",
    "    Parameters\n",
    "    ----------\n",
    "    solver            : function\n",
    "                      Function with linear system solver implementation\n",
    "    N                 : (n, ) array \n",
    "                      Array of integers with system size\n",
    "    Ne                : int\n",
    "                      Number of experiments\n",
    "\n",
    "    Returns\n",
    "    -------\n",
    "    times_solver      : (n, ) array\n",
    "                      Mean times using solver\n",
    "    \"\"\"\n",
    "    Nn = Ns.shape[-1]\n",
    "    times_solver = np.zeros(Nn)\n",
    "\n",
    "    for i in range(Nn):\n",
    "        # Generate system Ax=b\n",
    "        A, b = generateLinearSystem(Ns[i])\n",
    "\n",
    "        # Compute time\n",
    "        start = time.time()\n",
    "        # Repeating the computation \"Ne\" times to get more accurate results.\n",
    "        for e in range(Ne):\n",
    "            x_i = solver(A, b)\n",
    "        end = time.time()\n",
    "\n",
    "        # Get mean time\n",
    "        times_solver[i] = (end - start) / Ne\n",
    "\n",
    "    return times_solver"
   ]
  },
  {
   "cell_type": "markdown",
   "metadata": {
    "colab_type": "text",
    "id": "P1as3SO9joUq"
   },
   "source": [
    "Recordando que para la factorización PALU se determinó que su complejidad computacional era $\\sim \\dfrac{2}{3}n^3$, donde $n$ correspondía al tamaño del sistema de ecuaciones lineales. \n",
    "En este desafío se quiere estudiar la estimación experimental de tal complejidad, por ejemplo para un algoritmo denotado por ```solver``` podemos indicar que su complejidad computacional tiene la forma $\\sim c\\,n^p$, donde $c$ sería su coeficiente y $p$ su exponente, en el caso de PALU, $c=\\dfrac{2}{3}$ y $p=3$.\n",
    "En particular, podemos determinar el tiempo total de computación con la siguiente relación $\\text{totalTime}\\approx c\\,n^p\\,\\text{TOp}$, donde ```TOp``` se puede obtener como se explica a continuación.\n",
    "\n",
    "Mediante la función ```timeOperation()``` usted debe estimar el tiempo promedio de las $4$ operaciones elementales, el cual se denomina ```TOp```. **Debe considerar que el tiempo de ejecución de esta función no debe superar los $20$ segundos**.\n",
    "\n"
   ]
  },
  {
   "cell_type": "code",
   "execution_count": 127,
   "metadata": {
    "colab": {},
    "colab_type": "code",
    "id": "-IsdWB_KPv_N"
   },
   "outputs": [],
   "source": [
    "import time\n",
    "import random\n",
    "import numpy as np\n",
    "def timeOperation():\n",
    "    \"\"\"\n",
    "    Returns\n",
    "    -------\n",
    "    TOp       : float\n",
    "              Elementary operation estimation time\n",
    "    \"\"\"\n",
    "    # Algorithm...\n",
    "    a = 420\n",
    "    b = 69\n",
    "    TOp = 0\n",
    "    N = 50000000\n",
    "    start = time.time()\n",
    "    for i in range(N):\n",
    "        x = a+b\n",
    "        y = a-b\n",
    "        z = a*b\n",
    "        w = a/b\n",
    "    end = time.time()\n",
    "    TOp += end-start\n",
    "    TOp = TOp/(4*N)\n",
    "    \n",
    "    return TOp"
   ]
  },
  {
   "cell_type": "code",
   "execution_count": 128,
   "metadata": {},
   "outputs": [
    {
     "data": {
      "text/plain": [
       "4.612796425819397e-08"
      ]
     },
     "execution_count": 128,
     "metadata": {},
     "output_type": "execute_result"
    }
   ],
   "source": [
    "timeOperation()"
   ]
  },
  {
   "cell_type": "markdown",
   "metadata": {
    "colab_type": "text",
    "id": "8dCyIBpgWSSo"
   },
   "source": [
    "Además debe implementar la función ```findComplexity(Ns, times, TOp)``` donde ```Ns``` es el arreglo con el tamaño de los sistemas, ```times``` es el arreglo con los tiempos del algoritmo analizado y ```TOp``` es la estimación del tiempo que demora una operación elemental. Esta función debe retornar el coeficiente ```c``` y el exponente ```p``` indicados anteriormente.\n",
    "Utilice su algoritmo para determinar la complejidad experimental de  ```solveInverse```, ```solvePALU```, ```solveCholesky```, y ```solveDirect``` a modo de ejemplo. Su tarea será evaluada con otros algoritmos luego."
   ]
  },
  {
   "cell_type": "code",
   "execution_count": 203,
   "metadata": {
    "colab": {},
    "colab_type": "code",
    "id": "WPGYazbt8gbb"
   },
   "outputs": [],
   "source": [
    "def findComplexity(Ns, times, Top):\n",
    "    \"\"\"\n",
    "    Parameters\n",
    "    ----------\n",
    "    Ns                : (n, ) array \n",
    "                      Array with system size\n",
    "    times             : (n, ) array\n",
    "                      Mean times using a solver\n",
    "    TOp               : float\n",
    "                      Elementary operation estimation time\n",
    "\n",
    "    Returns\n",
    "    -------\n",
    "    c                 : float\n",
    "                      Complexity constant\n",
    "    p                 : float\n",
    "                      Complexity exponent\n",
    "    \"\"\"\n",
    "    # Algorithm\n",
    "    c = 0\n",
    "    p = 0\n",
    "    \n",
    "    operaciones = times/Top\n",
    "    y = np.log(operaciones)\n",
    "    b = (y[-1]-y[0])/(np.log(Ns[-1])-np.log(Ns[0]))\n",
    "    a = y[0]-b*np.log(Ns[0])\n",
    "    c = np.e**a\n",
    "    p = b\n",
    "    f = lambda x: c*x**p\n",
    "    plt.plot(Ns,f(Ns), label = \"cubica\")\n",
    "    plt.ylabel(\"cubica\")\n",
    "    plt.show()\n",
    "    plt.plot(np.log(Ns),y, label = \"lineal\")\n",
    "    plt.ylabel(\"lineal\")\n",
    "    plt.show()\n",
    "    \"\"\"\n",
    "    y = np.log(times)\n",
    "    b = (y[-1]-y[0])/(np.log(Ns[-1])-np.log(Ns[0]))\n",
    "    a = y[0]-b*np.log(Ns[0])\n",
    "    c = (np.e**a)/Top\n",
    "    p = b\n",
    "    f = lambda x: c*x**p\n",
    "    plt.plot(Ns,f(Ns), label = \"cubica\")\n",
    "    plt.ylabel(\"cubica\")\n",
    "    plt.show()\n",
    "    plt.plot(np.log(Ns),y, label = \"lineal\")\n",
    "    plt.ylabel(\"lineal\")\n",
    "    plt.show()\n",
    "    \"\"\"\n",
    "    return c, p"
   ]
  },
  {
   "cell_type": "code",
   "execution_count": 204,
   "metadata": {},
   "outputs": [
    {
     "data": {
      "image/png": "[encoded data removed]",
      "text/plain": [
       "<Figure size 432x288 with 1 Axes>"
      ]
     },
     "metadata": {
      "needs_background": "light"
     },
     "output_type": "display_data"
    },
    {
     "data": {
      "image/png": "[encoded data removed]",
      "text/plain": [
       "<Figure size 432x288 with 1 Axes>"
      ]
     },
     "metadata": {
      "needs_background": "light"
     },
     "output_type": "display_data"
    },
    {
     "data": {
      "text/plain": [
       "(393.5538940992222, 1.1173433353454514)"
      ]
     },
     "execution_count": 204,
     "metadata": {},
     "output_type": "execute_result"
    }
   ],
   "source": [
    "findComplexity(Ns, inv, TOp)"
   ]
  },
  {
   "cell_type": "code",
   "execution_count": 202,
   "metadata": {},
   "outputs": [
    {
     "data": {
      "image/png": "[encoded data removed]",
      "text/plain": [
       "<Figure size 432x288 with 1 Axes>"
      ]
     },
     "metadata": {
      "needs_background": "light"
     },
     "output_type": "display_data"
    },
    {
     "data": {
      "image/png": "[encoded data removed]",
      "text/plain": [
       "<Figure size 432x288 with 1 Axes>"
      ]
     },
     "metadata": {
      "needs_background": "light"
     },
     "output_type": "display_data"
    },
    {
     "data": {
      "text/plain": [
       "(393.5538940992228, 1.1173433353454514)"
      ]
     },
     "execution_count": 202,
     "metadata": {},
     "output_type": "execute_result"
    }
   ],
   "source": [
    "findComplexity(Ns, inv, TOp)"
   ]
  },
  {
   "cell_type": "code",
   "execution_count": 170,
   "metadata": {},
   "outputs": [
    {
     "data": {
      "text/plain": [
       "array([5.36918640e-05, 3.49998474e-05])"
      ]
     },
     "execution_count": 170,
     "metadata": {},
     "output_type": "execute_result"
    }
   ],
   "source": [
    "TOp = timeOperation()\n",
    "times = obtainComputationTimes(solveCholesky, np.array([3,3]))\n",
    "times"
   ]
  },
  {
   "cell_type": "code",
   "execution_count": 169,
   "metadata": {},
   "outputs": [],
   "source": [
    "Ns = np.linspace(100,500,100)\n",
    "Ns = np.array(Ns,int)\n",
    "inv = obtainComputationTimes(solveInverse, Ns)\n",
    "PALU = obtainComputationTimes(solvePALU, Ns)\n",
    "cholesky = obtainComputationTimes(solveCholesky, Ns)\n",
    "directa = obtainComputationTimes(solveDirect, Ns)\n"
   ]
  },
  {
   "cell_type": "code",
   "execution_count": 171,
   "metadata": {},
   "outputs": [],
   "source": [
    "op_Inv = inv/ TOp\n",
    "op_PALU = PALU/ TOp\n",
    "op_chol = cholesky/ TOp\n",
    "op_dir = directa/ TOp"
   ]
  },
  {
   "cell_type": "code",
   "execution_count": 177,
   "metadata": {},
   "outputs": [],
   "source": [
    "y_Inv = np.log(op_Inv)\n",
    "y_PALU = np.log(op_PALU)\n",
    "y_chol = np.log(op_chol)\n",
    "y_dir = np.log(op_dir)"
   ]
  },
  {
   "cell_type": "code",
   "execution_count": 178,
   "metadata": {},
   "outputs": [
    {
     "data": {
      "text/plain": [
       "array([11.12077423, 10.9585042 , 10.92657525, 10.68256961, 10.80823947,\n",
       "       10.7195112 , 10.90020991, 10.83812704, 10.90174755, 10.91905314,\n",
       "       10.92058744, 10.99369394, 10.99709177, 11.12291888, 11.35633621,\n",
       "       11.42536623, 11.087118  , 11.20791784, 11.20833603, 11.23102445,\n",
       "       11.2856215 , 11.22793573, 11.29900617, 11.38992248, 11.32485236,\n",
       "       11.43074384, 11.50674533, 11.46747385, 11.54245302, 11.56216387,\n",
       "       11.57349925, 11.67875291, 11.63254946, 12.07107189, 12.02880409,\n",
       "       12.00522419, 11.95915276, 12.06166853, 12.08774199, 12.06894032,\n",
       "       12.06062364, 11.98436887, 11.96654332, 11.95943527, 12.01551006,\n",
       "       11.98547467, 12.02488102, 12.17004703, 12.27759711, 12.16916404,\n",
       "       12.25862412, 12.28603864, 12.17039565, 12.25714708, 12.16908769,\n",
       "       12.16610571, 12.20594472, 12.15509136, 12.19568504, 12.24526503,\n",
       "       12.27354763, 12.24814803, 12.33499451, 12.33912521, 12.2961752 ,\n",
       "       12.40189072, 12.3792991 , 12.40785285, 12.41203893, 12.49812198,\n",
       "       12.42257344, 12.43586447, 12.46889695, 12.52147948, 12.51732274,\n",
       "       12.57613787, 12.5535417 , 12.52526771, 12.70877381, 12.66932003,\n",
       "       12.64279864, 12.64911062, 12.57811296, 12.66874226, 12.67066612,\n",
       "       12.73968835, 12.69200387, 12.66614481, 12.75328242, 12.75887556,\n",
       "       12.76487649, 12.78974678, 12.82500549, 12.83286114, 12.81505452,\n",
       "       12.88627118, 12.86240937, 12.87291533, 12.91510431, 12.91906896])"
      ]
     },
     "execution_count": 178,
     "metadata": {},
     "output_type": "execute_result"
    }
   ],
   "source": []
  },
  {
   "cell_type": "code",
   "execution_count": 163,
   "metadata": {},
   "outputs": [
    {
     "data": {
      "image/png": "[encoded data removed]",
      "text/plain": [
       "<Figure size 432x288 with 1 Axes>"
      ]
     },
     "metadata": {
      "needs_background": "light"
     },
     "output_type": "display_data"
    }
   ],
   "source": [
    "\n",
    "\"\"\"\n",
    "plt.figure(figsize=(15,7))\n",
    "\n",
    "plt.subplot(2,2,1)\n",
    "plt.plot(r, f1(r,1))\n",
    "plt.xlabel(\"Valores de C\")\n",
    "plt.ylabel(\"f1(c,1)\")\n",
    "plt.title(\"R(C,L) = 200L((1-(1-C)*2)/C)\")\n",
    "plt.xscale('log')\n",
    "\n",
    "plt.subplot(2,2,2)\n",
    "plt.plot(r, f2(r,1))\n",
    "plt.xscale('log')\n",
    "plt.xlabel(\"Valores de C\")\n",
    "plt.ylabel(\"f2(c,1)\")\n",
    "plt.title(\"R(C,L) = 200L*(2-C)\")\n",
    "plt.xscale('log')\n",
    "\"\"\"\n",
    "\n",
    "plt.plot(Ns, inv , label = \"Inversa\")\n",
    "plt.plot(Ns, PALU , label = \"PALU\")\n",
    "plt.plot(Ns, cholesky , label = \"Cholesky\")\n",
    "plt.plot(Ns, directa , label = \"Direct\")\n",
    "\n",
    "plt.ylabel(\"Time\")\n",
    "plt.xlabel(\"n\")\n",
    "plt.legend()\n",
    "\n",
    "plt.show()\n"
   ]
  },
  {
   "cell_type": "code",
   "execution_count": 164,
   "metadata": {},
   "outputs": [],
   "source": [
    "f_inv = np.polyfit(Ns, inv, 3)\n",
    "f_palu = np.polyfit(Ns, PALU, 3)\n",
    "f_chol = np.polyfit(Ns, cholesky, 3)\n",
    "f_dir = np.polyfit(Ns, directa, 3)"
   ]
  },
  {
   "cell_type": "code",
   "execution_count": 165,
   "metadata": {},
   "outputs": [],
   "source": [
    "fInv = lambda x: f_inv[0]*x**3 + f_inv[1]*x**2 + f_inv[2]*x + f_inv[3]\n",
    "fPalu = lambda x: f_palu[0]*x**3 + f_palu[1]*x**2 + f_palu[2]*x + f_palu[3]\n",
    "fChol = lambda x: f_chol[0]*x**3 + f_chol[1]*x**2 + f_chol[2]*x + f_chol[3]\n",
    "fDir = lambda x: f_dir[0]*x**3 + f_dir[1]*x**2 + f_dir[2]*x + f_dir[3]"
   ]
  },
  {
   "cell_type": "code",
   "execution_count": 166,
   "metadata": {},
   "outputs": [
    {
     "data": {
      "image/png": "[encoded data removed]",
      "text/plain": [
       "<Figure size 432x288 with 1 Axes>"
      ]
     },
     "metadata": {
      "needs_background": "light"
     },
     "output_type": "display_data"
    }
   ],
   "source": [
    "plt.plot(Ns, fInv(Ns) , label = \"Inversa\")\n",
    "plt.plot(Ns, fPalu(Ns) , label = \"PALU\")\n",
    "plt.plot(Ns, fChol(Ns) , label = \"Cholesky\")\n",
    "plt.plot(Ns, fDir(Ns) , label = \"Direct\")\n",
    "\n",
    "plt.ylabel(\"f\")\n",
    "plt.xlabel(\"n\")\n",
    "plt.legend()\n",
    "plt.show()"
   ]
  },
  {
   "cell_type": "code",
   "execution_count": 167,
   "metadata": {},
   "outputs": [
    {
     "data": {
      "text/plain": [
       "array([-1.83781533e-11,  2.16062755e-08,  2.12514024e-05, -3.96876513e-04])"
      ]
     },
     "execution_count": 167,
     "metadata": {},
     "output_type": "execute_result"
    }
   ],
   "source": [
    "f_dir"
   ]
  },
  {
   "cell_type": "code",
   "execution_count": null,
   "metadata": {},
   "outputs": [],
   "source": []
  }
 ],
 "metadata": {
  "colab": {
   "collapsed_sections": [],
   "name": "desafio_2.ipynb",
   "provenance": []
  },
  "kernelspec": {
   "display_name": "Python 3",
   "language": "python",
   "name": "python3"
  },
  "language_info": {
   "codemirror_mode": {
    "name": "ipython",
    "version": 3
   },
   "file_extension": ".py",
   "mimetype": "text/x-python",
   "name": "python",
   "nbconvert_exporter": "python",
   "pygments_lexer": "ipython3",
   "version": "3.8.2"
  }
 },
 "nbformat": 4,
 "nbformat_minor": 1
}
