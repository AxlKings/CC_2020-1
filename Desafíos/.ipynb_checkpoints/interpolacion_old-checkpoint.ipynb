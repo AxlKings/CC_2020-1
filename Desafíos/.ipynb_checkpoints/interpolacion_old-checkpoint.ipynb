{
 "cells": [
  {
   "cell_type": "code",
   "execution_count": 1,
   "metadata": {},
   "outputs": [],
   "source": [
    "import numpy as np\n",
    "from scipy.interpolate import lagrange\n",
    "import matplotlib.pyplot as plt\n",
    "import sympy as sp"
   ]
  },
  {
   "cell_type": "code",
   "execution_count": 2,
   "metadata": {},
   "outputs": [],
   "source": [
    "def BL1D(x, xi, f, wi):\n",
    "    #wi = np.array([1 / li(xi[i], xi, i) for i in range(len(xi))])\n",
    "    xdiff = x.reshape(-1, 1) - xi.reshape(1, -1)\n",
    "    xdiff[xdiff == 0] = 1 # For x = xi\n",
    "    interp = np.dot(wi/xdiff, f) / np.dot(1/xdiff, wi)\n",
    "    # Replace values where x = xi with real data\n",
    "    interp[np.where(np.in1d(x, xi))] = f[np.where(np.in1d(xi, x))]\n",
    "    return interp"
   ]
  },
  {
   "cell_type": "code",
   "execution_count": 3,
   "metadata": {},
   "outputs": [],
   "source": [
    "import scipy.special as spsp\n",
    "def weights(n):\n",
    "    j = np.arange(n) \n",
    "    comb = spsp.binom(n-1, j)\n",
    "    return (-1.0) ** j * comb"
   ]
  },
  {
   "cell_type": "code",
   "execution_count": 4,
   "metadata": {},
   "outputs": [],
   "source": [
    "def vandermonde(x_i, y_i):\n",
    "    V = np.vander(x_i, increasing=True)\n",
    "    a = np.linalg.solve(V, y_i)\n",
    "    P = lambda x: np.dot(np.array([x ** i for i in range(a.shape[-1])]), a)\n",
    "    return np.vectorize(P)"
   ]
  },
  {
   "cell_type": "code",
   "execution_count": 5,
   "metadata": {},
   "outputs": [],
   "source": [
    "f1 = lambda x: 1 + x * 0 #np.sinc(x)\n",
    "f2 = lambda x: 1 / (1 + 12 * x ** 2)"
   ]
  },
  {
   "cell_type": "code",
   "execution_count": 6,
   "metadata": {},
   "outputs": [],
   "source": [
    "f = f2"
   ]
  },
  {
   "cell_type": "code",
   "execution_count": 7,
   "metadata": {},
   "outputs": [],
   "source": [
    "x_a, x_b = -3, 3 #-5, 5\n",
    "N_i = 15\n",
    "x_i = np.linspace(x_a, x_b, N_i)\n",
    "y_i = f(x_i)"
   ]
  },
  {
   "cell_type": "code",
   "execution_count": 8,
   "metadata": {},
   "outputs": [],
   "source": [
    "Pv = vandermonde(x_i, y_i)"
   ]
  },
  {
   "cell_type": "code",
   "execution_count": null,
   "metadata": {},
   "outputs": [],
   "source": []
  },
  {
   "cell_type": "code",
   "execution_count": 9,
   "metadata": {},
   "outputs": [],
   "source": [
    "Pl = lagrange(x_i, y_i)"
   ]
  },
  {
   "cell_type": "code",
   "execution_count": 10,
   "metadata": {},
   "outputs": [],
   "source": [
    "N_e = 100\n",
    "x_e = np.linspace(x_a, x_b, N_e)"
   ]
  },
  {
   "cell_type": "code",
   "execution_count": 11,
   "metadata": {},
   "outputs": [],
   "source": [
    "wi = weights(N_i)\n",
    "y_e_b = BL1D(x_e, x_i, y_i, wi)"
   ]
  },
  {
   "cell_type": "code",
   "execution_count": 12,
   "metadata": {},
   "outputs": [
    {
     "data": {
      "image/png": "[encoded data removed]",
      "text/plain": [
       "<Figure size 432x288 with 1 Axes>"
      ]
     },
     "metadata": {
      "needs_background": "light"
     },
     "output_type": "display_data"
    }
   ],
   "source": [
    "plt.plot(x_i, y_i, 'ro', label=\"Interpolation Points\")\n",
    "plt.plot(x_e, f(x_e), 'b-', label=r\"$f(x)$\")\n",
    "plt.plot(x_e, Pv(x_e), '--', label=r\"$P_v(x)$\")\n",
    "#plt.plot(x_e, Pl(x_e), '-.', label=r\"$P_l(x)$\")\n",
    "plt.plot(x_e, y_e_b, '-x', label=\"Bary\")\n",
    "plt.grid(True)\n",
    "plt.legend()\n",
    "plt.show()"
   ]
  },
  {
   "cell_type": "code",
   "execution_count": 13,
   "metadata": {},
   "outputs": [],
   "source": [
    "x = sp.Symbol('x')\n",
    "X_i = np.array([1, 2, 3, 4])\n",
    "l = np.prod([x - x_i for x_i in X_i])"
   ]
  },
  {
   "cell_type": "code",
   "execution_count": 14,
   "metadata": {},
   "outputs": [
    {
     "data": {
      "text/latex": [
       "$\\displaystyle \\left(x - 4\\right) \\left(x - 3\\right) \\left(x - 2\\right) + \\left(x - 4\\right) \\left(x - 3\\right) \\left(x - 1\\right) + \\left(x - 4\\right) \\left(x - 2\\right) \\left(x - 1\\right) + \\left(x - 3\\right) \\left(x - 2\\right) \\left(x - 1\\right)$"
      ],
      "text/plain": [
       "(x - 4)*(x - 3)*(x - 2) + (x - 4)*(x - 3)*(x - 1) + (x - 4)*(x - 2)*(x - 1) + (x - 3)*(x - 2)*(x - 1)"
      ]
     },
     "execution_count": 14,
     "metadata": {},
     "output_type": "execute_result"
    }
   ],
   "source": [
    "sp.diff(l, x)"
   ]
  },
  {
   "cell_type": "code",
   "execution_count": 15,
   "metadata": {},
   "outputs": [],
   "source": [
    "import numpy as np\n",
    "import time"
   ]
  },
  {
   "cell_type": "code",
   "execution_count": 16,
   "metadata": {},
   "outputs": [],
   "source": [
    "def l_x(x,points):\n",
    "    f = 1\n",
    "    for r in points:\n",
    "        if x != r:\n",
    "            f*= (x - r)\n",
    "    return(f)"
   ]
  },
  {
   "cell_type": "code",
   "execution_count": 17,
   "metadata": {},
   "outputs": [],
   "source": [
    "y = lambda x: np.sin(x)"
   ]
  },
  {
   "cell_type": "code",
   "execution_count": 18,
   "metadata": {},
   "outputs": [],
   "source": [
    "tiempo = []\n",
    "tiempo_2 = []\n",
    "\n",
    "for n in range(3,250):\n",
    "    \n",
    "    x_points = np.linspace(-2*np.pi,2*np.pi,n)\n",
    "    y_points = y(x_points)\n",
    "    \n",
    "    evaluate_point = np.random.random(1)*2*np.pi\n",
    "    \n",
    "    p_k = 0\n",
    "    quotient_l = []\n",
    "    \n",
    "    for h in x_points:\n",
    "        quotient_l.append(l_x(h,x_points))\n",
    "        \n",
    "    quotient_l = np.array(quotient_l)\n",
    "    \n",
    "    initial = time.time()\n",
    "    for i,x in enumerate(x_points):\n",
    "        l = 1\n",
    "        for q,h in enumerate(x_points):\n",
    "            if i != q:\n",
    "                l*= (evaluate_point - h)\n",
    "        p_k+=y_points[i]*l/quotient_l[i]\n",
    "        \n",
    "    end = time.time()\n",
    "    tiempo.append(end-initial)\n",
    "    \n",
    "    w_k = 1/quotient_l\n",
    "    \n",
    "    suma_1 = 0\n",
    "    suma_2 = 0\n",
    "    \n",
    "    initial = time.time()\n",
    "    \n",
    "    for i,x in enumerate(x_points):\n",
    "        suma_1 += y_points[i]*w_k[i]/(evaluate_point-x)\n",
    "        suma_2 += w_k[i]/(evaluate_point-x)\n",
    "    p_k_1 = suma_1/suma_2\n",
    "    end = time.time()\n",
    "    \n",
    "    tiempo_2.append(end-initial)\n",
    "    #print(p_k,p_k_1)\n",
    "    "
   ]
  },
  {
   "cell_type": "code",
   "execution_count": 19,
   "metadata": {},
   "outputs": [
    {
     "data": {
      "image/png": "[encoded data removed]",
      "text/plain": [
       "<Figure size 432x288 with 1 Axes>"
      ]
     },
     "metadata": {
      "needs_background": "light"
     },
     "output_type": "display_data"
    }
   ],
   "source": [
    "x = np.arange(len(range(3,250)))\n",
    "plt.plot(x,tiempo, 'ro', label = \"Lagrange\")\n",
    "plt.plot(x,tiempo_2, 'bo',label = \"Baricentrica\")\n",
    "plt.plot(x, np.exp(-10.63745673) * x, 'b-', label=r\"$O(n)$\")\n",
    "plt.plot(x, np.exp(-11.73606902) * x ** 2, 'r-', label=r\"$O(n^2)$\")\n",
    "plt.yscale('log')\n",
    "plt.xscale('log')\n",
    "plt.grid(True)\n",
    "plt.legend()\n",
    "plt.show()"
   ]
  },
  {
   "cell_type": "code",
   "execution_count": null,
   "metadata": {},
   "outputs": [],
   "source": []
  }
 ],
 "metadata": {
  "kernelspec": {
   "display_name": "Python 3",
   "language": "python",
   "name": "python3"
  },
  "language_info": {
   "codemirror_mode": {
    "name": "ipython",
    "version": 3
   },
   "file_extension": ".py",
   "mimetype": "text/x-python",
   "name": "python",
   "nbconvert_exporter": "python",
   "pygments_lexer": "ipython3",
   "version": "3.8.5"
  }
 },
 "nbformat": 4,
 "nbformat_minor": 4
}
