{
 "cells": [
  {
   "cell_type": "markdown",
   "metadata": {},
   "source": [
    "# INF-285 / ILI-285\n",
    "##  Desafío 4\n",
    "### SCT 2020-1"
   ]
  },
  {
   "cell_type": "markdown",
   "metadata": {
    "colab_type": "text",
    "id": "JZTwv1PmA-mn"
   },
   "source": [
    "# Instrucciones\n",
    "\n",
    "- El desafío es individual, por lo cual se considera que todo el código entregado es de elaboración propia y no ha sido compartido de forma alguna.\n",
    "- Las consultas sobre el desafío se deben realizar por medio de la plataforma Aula. **No está permitido publicar código en consultas de Aula**.\n",
    "- El desafío debe ser realizado en Jupyter Notebook (Python3) utilizando este archivo como base.\n",
    "- Debe utilizar arreglos de ```NumPy``` junto a las funciones y bibliotecas que se ponen a disposición en este archivo.\n",
    "- Se debe respetar las firmas de las funciones, sus parámetros y retornos. Para eso se incluye un detalle de cada función tanto de las entregadas como las que deberá implementar. En caso de no seguir estas instrucciones, el desafío no podrá evaluarse.\n",
    "- Se evaluará la correcta utilización de librerias ```NumPy```, ```SciPy```, entre otras, así como la correcta implementación de algoritmos de forma vectorizada.\n",
    "- Evitar la impresión de mensajes salvo que se solicite en el enunciado.\n",
    "- El archivo de entrega debe denominarse **ROL-desafio-numero.ipynb**. **De no respetarse este formato existirá un descuento de 50 puntos**\n",
    "- La fecha de entrega es el **30 de julio a las 10:00 hrs**,  posteriormente existirá un descuento lineal hasta las 11:00 hrs del mismo día."
   ]
  },
  {
   "cell_type": "markdown",
   "metadata": {
    "colab_type": "text",
    "id": "YNg382fNA-mo"
   },
   "source": [
    "# Introducción\n",
    "\n",
    "En este desafío vamos a comparar el rendimiento de la interpolación polinomial utilizando **Intepolación de Lagrange** e **Interpolación Baricéntrica**. Recordar que estamos buscando un polinomio interpolador de la forma:\n",
    "\n",
    "\\begin{equation}\n",
    "    P(x) = a_0 + a_1x + a_2x^2 + \\cdots + a_{n-1}x^{n-1}+a_{n}x^{n}= \\sum_{i=0}^{n}a_ix^i,\n",
    "\\end{equation}\n",
    "\n",
    "que se construye conociendo el conjunto de puntos $S=\\{(x_0, y_0),(x_1, y_1), \\dots, (x_n, y_n)\\}$.\n",
    "\n",
    "## Interpolación de Lagrange\n",
    "\n",
    "El polinomio interpolador de Lagrange se define como:\n",
    "\n",
    "\\begin{equation*}\n",
    "    P(x) = y_{0}L_{0}(x) + y_{1}L_{1}(x) + \\dots + y_{n} L_{n}(x) = \\displaystyle \\sum_{k=0}^{n} y_{k} L_{k}(x),\n",
    "\\end{equation*}\n",
    "\n",
    "con\n",
    "\n",
    "\\begin{equation*}\n",
    "    L_k(x) = \\frac{l_k(x)}{l_k(x_k)} \\quad \\text{y} \\quad l_k(x) = \\prod_{i=0, i\\neq k}^{n}(x-x_i)= (x-x_1)(x-x_2)\\cdots(x-x_{k-1})(x-x_{k+1})\\cdots(x-x_n).\n",
    "\\end{equation*}\n",
    "    \n",
    "\n",
    "## Interpolación Baricéntrica\n",
    "\n",
    "El polinomio interpolador utilizando **Interpolación Baricéntrica** se calcula de la siguiente manera:\n",
    "\n",
    "\\begin{equation*}\n",
    "    P(x)=l(x)\\,\\sum_{k=0}^n y_k\\,\\dfrac{w_k}{(x-x_k)}\n",
    "        =\\dfrac{\\displaystyle{\\sum_{k=0}^n} y_k\\dfrac{w_k}{(x-x_k)}}\n",
    "        {\\displaystyle{\\sum_{k=0}^n} \\dfrac{w_k}{(x-x_k)}},\n",
    "\\end{equation*}\n",
    "\n",
    "donde $l(x)=\\displaystyle{\\prod_{i=0}^n(x-x_i)}$ y $w_k=\\dfrac{1}{l_k(x_k)}$. "
   ]
  },
  {
   "cell_type": "code",
   "execution_count": 1,
   "metadata": {
    "colab": {},
    "colab_type": "code",
    "id": "5qGqrepRA-mp"
   },
   "outputs": [],
   "source": [
    "import time\n",
    "import numpy as np\n",
    "import matplotlib.pyplot as plt\n",
    "from scipy import interpolate\n",
    "import sympy as sp\n",
    "from sympy.utilities.lambdify import lambdify"
   ]
  },
  {
   "cell_type": "markdown",
   "metadata": {
    "colab_type": "text",
    "id": "cglge2o2-d-V"
   },
   "source": [
    "# Implementación"
   ]
  },
  {
   "cell_type": "markdown",
   "metadata": {
    "colab_type": "text",
    "id": "UK4s3FGGA-mu"
   },
   "source": [
    "Implemente la función ```lagrange(x_i, y_i)``` que recibe como parámetros los puntos de interpolación $x_i, y_i$ y retorna el polinomio interpolador $L(x)$.\n",
    "Asegúrese que su polinomio pueda evaluar arreglos de ```NumPy```."
   ]
  },
  {
   "cell_type": "code",
   "execution_count": 140,
   "metadata": {
    "colab": {},
    "colab_type": "code",
    "id": "ASjRfXI_A-my"
   },
   "outputs": [],
   "source": [
    "def lagrange(x_i, y_i):\n",
    "    \"\"\"\n",
    "    Compute Interpolating Polynomial using Lagrange\n",
    "\n",
    "    Parameters\n",
    "    -----------\n",
    "    x_i     : (n, ) array\n",
    "             Data x_i to interpolate\n",
    "    y_i     : (n, ) array\n",
    "             Data y_i to interpolate\n",
    "\n",
    "    Returns\n",
    "    -------\n",
    "    L     : Lambda function\n",
    "            Lagrange interpolating polynomial\n",
    "    \"\"\"\n",
    "    \n",
    "    L = interpolate.lagrange(x_i, y_i)\n",
    "    L = np.vectorize(L)\n",
    "    \n",
    "    # El siguiente método lo realicé usando sympy, no se demora mucho en crear el polinomio, \n",
    "    # pero en evaluarlo para la sección de pruebas demora unos 20 minutos. En caso de querer probarlo,\n",
    "    # descomentar el código y comentar las dos lineas anteriores que usa interpolate y vectorize uwu.\n",
    "    \n",
    "    \"\"\"\n",
    "    n = len(x_i) \n",
    "    Lk = []\n",
    "    x = sp.symbols(\"x\")\n",
    "    l = (x-x_i[0])\n",
    "    for i in range(1,n):\n",
    "        l *= (x-x_i[i])\n",
    "        \n",
    "    L = 0\n",
    "    for k in range(n):\n",
    "        l_k = l/(x-x_i[k])\n",
    "        l_kx = lambdify(x, l_k)\n",
    "        L_k = l_k/l_kx(x_i[k])\n",
    "        L += y_i[k]*L_k\n",
    "        \n",
    "    L = lambdify(x, L)\n",
    "    L = np.vectorize(L)\n",
    "    \"\"\"\n",
    "    \n",
    "    return L"
   ]
  },
  {
   "cell_type": "markdown",
   "metadata": {
    "colab_type": "text",
    "id": "-_vJ7Nz8qVuI"
   },
   "source": [
    "Implemente la función ```barycentric(x_i, y_i)``` que recibe como parámetros los puntos de interpolación $x_i, y_i$ y retorna el polinomio interpolador $B(x)$.\n",
    "Asegúrese que su polinomio pueda evaluar arreglos de ```NumPy```."
   ]
  },
  {
   "cell_type": "code",
   "execution_count": 141,
   "metadata": {
    "colab": {},
    "colab_type": "code",
    "id": "x_Nfe3_0A-m1"
   },
   "outputs": [],
   "source": [
    "def barycentric(x_i, y_i):\n",
    "    \"\"\"\n",
    "    Compute Interpolating Polynomial using Barycentric interpolation\n",
    "\n",
    "    Parameters\n",
    "    -----------\n",
    "    x_i     : (n, ) array\n",
    "             Data x_i to interpolate\n",
    "    y_i     : (n, ) array\n",
    "             Data y_i to interpolate\n",
    "\n",
    "    Returns\n",
    "    -------\n",
    "    B     : Lambda function\n",
    "            Barycentric interpolation\n",
    "    \"\"\"\n",
    "    \n",
    "    B = interpolate.BarycentricInterpolator(x_i, y_i)\n",
    "    B = np.vectorize(B)\n",
    "    \n",
    "    # El siguiente método lo realicé usando sympy, no se demora mucho en crear el polinomio, \n",
    "    # pero en evaluarlo para la sección de pruebas demora unos 20 minutos. En caso de querer probarlo,\n",
    "    # descomentar el código y comentar las dos lineas anteriores que usa interpolate y vectorize uwu.\n",
    "    \n",
    "    \"\"\"\n",
    "    \n",
    "    n = len(x_i)\n",
    "    x = sp.symbols(\"x\")\n",
    "    l = (x-x_i[0])\n",
    "    for i in range(1,n):\n",
    "        l *= (x-x_i[i])\n",
    "    sum1 = 0\n",
    "    sum2 = 0 \n",
    "    for k in range(n):\n",
    "        l_k = l/(x-x_i[k])\n",
    "        l_kx = lambdify(x, l_k)\n",
    "        w_k = 1/l_kx(x_i[k])\n",
    "        sum1 += y_i[k]*w_k/(x-x_i[k])\n",
    "        sum2 += w_k/(x-x_i[k])\n",
    "    B = sum1/sum2\n",
    "    B = lambdify(x,B)\n",
    "    B = np.vectorize(B)\n",
    "    \"\"\"\n",
    "    \n",
    "    return B"
   ]
  },
  {
   "cell_type": "markdown",
   "metadata": {
    "colab_type": "text",
    "id": "ZasxwZDqA-m9"
   },
   "source": [
    "# Pruebas"
   ]
  },
  {
   "cell_type": "markdown",
   "metadata": {
    "colab_type": "text",
    "id": "_kUgN9IKA-m9"
   },
   "source": [
    "Para que pueda probar sus funciones se ponen a disposición las siguientes funciones:"
   ]
  },
  {
   "cell_type": "code",
   "execution_count": 142,
   "metadata": {
    "colab": {},
    "colab_type": "code",
    "id": "1f_tk_J8A-m-"
   },
   "outputs": [],
   "source": [
    "f1 = lambda x: 2 * x + 3 \n",
    "f2 = lambda x: np.sin(x) ** 3 \n",
    "f3 = lambda x: np.exp(x) \n",
    "f4 = lambda x: np.exp(-x ** 2)\n",
    "f5 = lambda x: np.sinc(x)\n",
    "f6 = lambda x: 1 + x * 0\n",
    "f7 = lambda x: 1 / (1 + 25 * x ** 2) "
   ]
  },
  {
   "cell_type": "markdown",
   "metadata": {
    "colab_type": "text",
    "id": "vnb1uK2_A-nC"
   },
   "source": [
    "## Datos a interpolar\n",
    "\n",
    "Acá puede seleccionar la función de la celda anterior que estime conveniente para probar su interpolación."
   ]
  },
  {
   "cell_type": "code",
   "execution_count": 143,
   "metadata": {
    "colab": {},
    "colab_type": "code",
    "id": "8NeCUdQXA-nC"
   },
   "outputs": [],
   "source": [
    "f = f5"
   ]
  },
  {
   "cell_type": "markdown",
   "metadata": {
    "colab_type": "text",
    "id": "cLp7gFYFA-nF"
   },
   "source": [
    "Se generarán puntos equispaciados $x_i$ en un intervalo indicado y luego se evaluaran dichos puntos en una función $f$ para generar puntos $y_i$."
   ]
  },
  {
   "cell_type": "code",
   "execution_count": 144,
   "metadata": {
    "colab": {},
    "colab_type": "code",
    "id": "8B3uRBU0A-nG"
   },
   "outputs": [],
   "source": [
    "N_i = 11\n",
    "x_a, x_b = -2 * np.pi, 2 * np.pi\n",
    "x_i = np.linspace(x_a, x_b, N_i)\n",
    "y_i = f(x_i)"
   ]
  },
  {
   "cell_type": "markdown",
   "metadata": {
    "colab_type": "text",
    "id": "7vJrTxI3A-nJ"
   },
   "source": [
    "## Interpolación\n",
    "\n",
    "Para probar su interpolación, utilice las siguientes celdas."
   ]
  },
  {
   "cell_type": "code",
   "execution_count": 145,
   "metadata": {
    "colab": {},
    "colab_type": "code",
    "id": "azI62Hk3A-nM"
   },
   "outputs": [],
   "source": [
    "Pl = lagrange(x_i, y_i)"
   ]
  },
  {
   "cell_type": "code",
   "execution_count": 146,
   "metadata": {
    "colab": {},
    "colab_type": "code",
    "id": "AeKN58VoA-nP"
   },
   "outputs": [],
   "source": [
    "Pb = barycentric(x_i, y_i)"
   ]
  },
  {
   "cell_type": "markdown",
   "metadata": {
    "colab_type": "text",
    "id": "D6_0F5lcA-nV"
   },
   "source": [
    "# Visualización\n",
    "\n",
    "Utilice este código para visualizar su interpolación."
   ]
  },
  {
   "cell_type": "code",
   "execution_count": 149,
   "metadata": {
    "colab": {
     "base_uri": "https://localhost:8080/",
     "height": 388
    },
    "colab_type": "code",
    "executionInfo": {
     "elapsed": 1343,
     "status": "ok",
     "timestamp": 1593650715259,
     "user": {
      "displayName": "Daniel San Martin",
      "photoUrl": "https://lh3.googleusercontent.com/a-/AOh14Gh2H_R1eke7gfs9ptm4_ZPOT9q7BMmrOHf1dOAvXg=s64",
      "userId": "18392387168599098942"
     },
     "user_tz": 240
    },
    "id": "tWucS_suA-nW",
    "outputId": "f6e8e5f5-39ed-4f0f-e94d-d3331bf42ce4"
   },
   "outputs": [
    {
     "data": {
      "image/png": "[encoded data removed]",
      "text/plain": [
       "<Figure size 864x432 with 1 Axes>"
      ]
     },
     "metadata": {
      "needs_background": "light"
     },
     "output_type": "display_data"
    }
   ],
   "source": [
    "N_e = 200\n",
    "x_e = np.linspace(x_a, x_b, N_e)\n",
    "y_e = f(x_e)\n",
    "plt.figure(figsize=(12, 6))\n",
    "plt.plot(x_e, y_e, 'b-', label=r\"$f(x)$\")\n",
    "plt.plot(x_i, y_i, 'rd', label=\"Puntos para interpolar\")\n",
    "plt.plot(x_e, Pl(x_e), 'm--', label=r'$P_L(x)$')\n",
    "plt.plot(x_e, Pb(x_e), 'k-.', label=r'$P_B(x)$')\n",
    "plt.grid(True)\n",
    "plt.legend()\n",
    "plt.xlabel(r'$x$')\n",
    "plt.ylabel(r'$y$')\n",
    "plt.show()"
   ]
  },
  {
   "cell_type": "markdown",
   "metadata": {
    "colab_type": "text",
    "id": "8lcZLS1aA-np"
   },
   "source": [
    "## Comparar tiempo de evaluacion\n",
    "\n",
    "Diseñe un experimento de manera que pueda mostrar la complejidad computacional en la **evaluación** de sus interpoladores. Recuerde que la complejidad de evaluar un polinomio utilizando Lagrange debería ser del orden $O(n^2)$ mientras que al usar Interpolación Baricéntrica $O(n)$."
   ]
  },
  {
   "cell_type": "code",
   "execution_count": 150,
   "metadata": {
    "colab": {},
    "colab_type": "code",
    "id": "AtRGK1utkwqw"
   },
   "outputs": [],
   "source": [
    "x_a, x_b = -2 * np.pi, 2 * np.pi # Interpolation domain\n",
    "N_exp = 5\n",
    "Nt = 2 ** np.arange(3, 9)\n",
    "N = Nt.shape[-1]\n",
    "times_el = np.zeros(N)\n",
    "times_eb = np.zeros(N)\n",
    "for i in range(N_exp):\n",
    "    for j in range(N):\n",
    "        x_i = np.linspace(x_a,x_b,Nt[j])\n",
    "        y_i = f(x_i)\n",
    "        t1 = time.time()\n",
    "        lagrange(x_i, y_i)\n",
    "        t2 = time.time()\n",
    "        times_el[j] = t2-t1\n",
    "    \n",
    "    for j in range(N):\n",
    "        x_i = np.linspace(x_a,x_b,Nt[j])\n",
    "        y_i = f(x_i)\n",
    "        t1 = time.time()\n",
    "        barycentric(x_i, y_i)\n",
    "        t2 = time.time()\n",
    "        times_eb[j] = t2-t1"
   ]
  },
  {
   "cell_type": "code",
   "execution_count": 151,
   "metadata": {
    "colab": {
     "base_uri": "https://localhost:8080/",
     "height": 323
    },
    "colab_type": "code",
    "executionInfo": {
     "elapsed": 14329,
     "status": "ok",
     "timestamp": 1593649555824,
     "user": {
      "displayName": "Daniel San Martin",
      "photoUrl": "https://lh3.googleusercontent.com/a-/AOh14Gh2H_R1eke7gfs9ptm4_ZPOT9q7BMmrOHf1dOAvXg=s64",
      "userId": "18392387168599098942"
     },
     "user_tz": 240
    },
    "id": "K9oEJrS9A-ny",
    "outputId": "373f01d2-7069-419e-84bd-5451146c94e2"
   },
   "outputs": [],
   "source": [
    "# Evaluation time"
   ]
  },
  {
   "cell_type": "markdown",
   "metadata": {
    "colab_type": "text",
    "id": "U4cmcHUxrKG5"
   },
   "source": [
    "# Visualización tiempos\n",
    "\n",
    "Puede utilizar este código para visualizar los tiempos de evaluación."
   ]
  },
  {
   "cell_type": "code",
   "execution_count": 152,
   "metadata": {
    "colab": {
     "base_uri": "https://localhost:8080/",
     "height": 396
    },
    "colab_type": "code",
    "executionInfo": {
     "elapsed": 1709,
     "status": "ok",
     "timestamp": 1593649559629,
     "user": {
      "displayName": "Daniel San Martin",
      "photoUrl": "https://lh3.googleusercontent.com/a-/AOh14Gh2H_R1eke7gfs9ptm4_ZPOT9q7BMmrOHf1dOAvXg=s64",
      "userId": "18392387168599098942"
     },
     "user_tz": 240
    },
    "id": "QoyYLZiqkncN",
    "outputId": "e1ad364d-18bc-4f46-f6e4-e98e115b6711"
   },
   "outputs": [
    {
     "data": {
      "image/png": "[encoded data removed]",
      "text/plain": [
       "<Figure size 864x432 with 1 Axes>"
      ]
     },
     "metadata": {
      "needs_background": "light"
     },
     "output_type": "display_data"
    }
   ],
   "source": [
    "plt.figure(figsize=(12, 6))\n",
    "plt.plot(Nt, times_el, 'rx', label=\"Lagrange\")\n",
    "plt.plot(Nt, times_eb, 'gd', label=\"Barycentric\")\n",
    "plt.plot(Nt, 1e-5 * Nt, label=r\"$O(n)$\") # Puede ajustar el coeficiente 1e-4\n",
    "plt.plot(Nt, 1e-5 * Nt ** 2, label=r\"$O(n^2)$\") # Puede ajustar el coeficiente 1e-4\n",
    "plt.xscale('log')\n",
    "plt.yscale('log')\n",
    "plt.ylabel(\"Time [s]\")\n",
    "plt.xlabel(\"Number of evaluation points\")\n",
    "plt.grid(True)\n",
    "plt.legend()\n",
    "plt.show()"
   ]
  },
  {
   "cell_type": "code",
   "execution_count": null,
   "metadata": {},
   "outputs": [],
   "source": []
  }
 ],
 "metadata": {
  "colab": {
   "collapsed_sections": [],
   "name": "desafio_4.ipynb",
   "provenance": []
  },
  "kernelspec": {
   "display_name": "Python 3",
   "language": "python",
   "name": "python3"
  },
  "language_info": {
   "codemirror_mode": {
    "name": "ipython",
    "version": 3
   },
   "file_extension": ".py",
   "mimetype": "text/x-python",
   "name": "python",
   "nbconvert_exporter": "python",
   "pygments_lexer": "ipython3",
   "version": "3.8.5"
  }
 },
 "nbformat": 4,
 "nbformat_minor": 1
}
