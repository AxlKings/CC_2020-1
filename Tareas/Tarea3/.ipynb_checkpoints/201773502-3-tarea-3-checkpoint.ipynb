{
 "cells": [
  {
   "cell_type": "code",
   "execution_count": 1,
   "metadata": {},
   "outputs": [],
   "source": [
    "import numpy as np\n",
    "import sympy as sp\n",
    "from sympy.utilities.lambdify import lambdify\n",
    "from PIL import Image\n",
    "from scipy import interpolate\n",
    "import matplotlib.pyplot as plt\n",
    "import time\n",
    "from skimage.metrics import structural_similarity as ssim"
   ]
  },
  {
   "cell_type": "markdown",
   "metadata": {},
   "source": [
    "# Tarea 3:Interpolación Bicúbica"
   ]
  },
  {
   "cell_type": "markdown",
   "metadata": {},
   "source": [
    "## Instrucciones\n",
    "\n",
    "* La tarea es individual.\n",
    "* Las consultas sobre las tareas se deben realizar por medio de la plataforma Aula.\n",
    "* La tarea debe ser realizada en `Jupyter Notebook` (`Python3`).\n",
    "* Se evaluará la correcta utilización de librerias `NumPy`, `SciPy`, entre otras, así como la correcta implementación de algoritmos de forma vectorizada.\n",
    "*  **El archivo de entrega debe denominarse ROL-tarea-numero.ipynb**. _De no respetarse este formato existirá un descuento de **50 puntos**_\n",
    "* La fecha de entrega es el viernes 24 de Julio a las **18:00 hrs**.  Se aceptarán entregas hasta las 19:00 hrs sin descuento en caso de existir algun problema, posteriormente existirá un descuento lineal hasta las 20:00 hrs del mismo día.\n",
    "* Las tareas que sean entregadas antes del jueves a mediodía recibirán una bonificación de 10 puntos\n",
    "* Debe citar cualquier código ajeno utilizado (incluso si proviene de los Jupyter Notebooks del curso).\n"
   ]
  },
  {
   "cell_type": "markdown",
   "metadata": {},
   "source": [
    "## Introducción"
   ]
  },
  {
   "cell_type": "markdown",
   "metadata": {},
   "source": [
    "En la siguiente tarea estudiaremos un método de interpolación denominado **Interpolación Bicúbica**, utilizada frecuentemente sobre imágenes. Aplicaremos el método para aumentar la resolución de una imagen intentando preservar las propiedades de la versión original."
   ]
  },
  {
   "cell_type": "markdown",
   "metadata": {},
   "source": [
    "## Contexto"
   ]
  },
  {
   "cell_type": "markdown",
   "metadata": {},
   "source": [
    "Supongamos que usted conoce $f$ y las derivadas $f_x$, $f_y$ y $f_{xy}$ dentro de las coordenadas $(0,0),(0,1),(1,0)$ y $(1,1)$ de un cuadrado unitario. La superficie que interpola estos 4 puntos es:\n",
    "\n",
    "$$\n",
    "p(x,y) = \\sum\\limits_{i=0}^3 \\sum_{j=0}^3 a_{ij} x^i y^j.\n",
    "$$\n",
    "\n",
    "Como se puede observar el problema de interpolación se resume en determinar los 16 coeficientes $a_{ij}$ y para esto se genera un total de $16$ ecuaciones utilizando los valores conocidos de $f$,$f_x$,$f_y$ y $f_{xy}$. Por ejemplo, las primeras $4$ ecuaciones son:\n",
    "\n",
    "$$\n",
    "\\begin{aligned}\n",
    "f(0,0)&=p(0,0)=a_{00},\\\\\n",
    "f(1,0)&=p(1,0)=a_{00}+a_{10}+a_{20}+a_{30},\\\\\n",
    "f(0,1)&=p(0,1)=a_{00}+a_{01}+a_{02}+a_{03},\\\\\n",
    "f(1,1)&=p(1,1)=\\textstyle \\sum \\limits _{i=0}^{3}\\sum \\limits _{j=0}^{3}a_{ij}.\n",
    "\\end{aligned}\n",
    "$$\n",
    "\n",
    "Para las $12$ ecuaciones restantes se debe utilizar:\n",
    "\n",
    "$$\n",
    "\\begin{aligned}\n",
    "f_{x}(x,y)&=p_{x}(x,y)=\\textstyle \\sum \\limits _{i=1}^{3}\\sum \\limits _{j=0}^{3}a_{ij}ix^{i-1}y^{j},\\\\\n",
    "f_{y}(x,y)&=p_{y}(x,y)=\\textstyle \\sum \\limits _{i=0}^{3}\\sum \\limits _{j=1}^{3}a_{ij}x^{i}jy^{j-1},\\\\\n",
    "f_{xy}(x,y)&=p_{xy}(x,y)=\\textstyle \\sum \\limits _{i=1}^{3}\\sum \\limits _{j=1}^{3}a_{ij}ix^{i-1}jy^{j-1}.\n",
    "\\end{aligned}\n",
    "$$\n",
    "\n",
    "\n",
    "Una vez planteadas las ecuaciones, los coeficientes se pueden obtener al resolver el problema $A\\alpha=x$, donde $\\alpha=\\left[\\begin{smallmatrix}a_{00}&a_{10}&a_{20}&a_{30}&a_{01}&a_{11}&a_{21}&a_{31}&a_{02}&a_{12}&a_{22}&a_{32}&a_{03}&a_{13}&a_{23}&a_{33}\\end{smallmatrix}\\right]^T$ y ${\\displaystyle x=\\left[{\\begin{smallmatrix}f(0,0)&f(1,0)&f(0,1)&f(1,1)&f_{x}(0,0)&f_{x}(1,0)&f_{x}(0,1)&f_{x}(1,1)&f_{y}(0,0)&f_{y}(1,0)&f_{y}(0,1)&f_{y}(1,1)&f_{xy}(0,0)&f_{xy}(1,0)&f_{xy}(0,1)&f_{xy}(1,1)\\end{smallmatrix}}\\right]^{T}}$.\n"
   ]
  },
  {
   "cell_type": "markdown",
   "metadata": {},
   "source": [
    "En un contexto más aplicado, podemos hacer uso de la interpolación bicúbica para aumentar la resolución de una imagen. Supongamos que tenemos la siguiente imagen de tamaño $5 \\times 5$:"
   ]
  },
  {
   "cell_type": "markdown",
   "metadata": {},
   "source": [
    "<img src=\"img1.png\" width=\"20%\"/>"
   ]
  },
  {
   "cell_type": "markdown",
   "metadata": {},
   "source": [
    "Podemos ir tomando segmentos de la imagen de tamaño $2 \\times 2$ de la siguiente forma:"
   ]
  },
  {
   "cell_type": "markdown",
   "metadata": {},
   "source": [
    "<img src=\"img2.png\" width=\"50%\"/>"
   ]
  },
  {
   "cell_type": "markdown",
   "metadata": {},
   "source": [
    "Por cada segmento podemos generar una superficie interpoladora mediante el algoritmo de interpolación cubica. Para el ejemplo anterior estariamos generando $16$ superficies interpoladoras distintas. La idea es hacer uso de estas superficies para estimar los valores de los pixeles correspondienets a una imagen más grande. Por ejemplo, la imagen $5 \\times 5$ la podemos convertir a una imagen de $9 \\times 9$ agregando un pixel entre cada par de pixeles originales además de uno en el centro para que no quede un hueco."
   ]
  },
  {
   "cell_type": "markdown",
   "metadata": {},
   "source": [
    "<img src=\"img3.png\" width=\"50%\"/>"
   ]
  },
  {
   "cell_type": "markdown",
   "metadata": {},
   "source": [
    "Aca los pixeles verdes son los mismos que la imagen original y los azules son obtenidos de evaluar cada superficie interpoladora. Notar que existen pixeles azules que se pueden obtener a partir de dos superficies interpoladoras distintas, en esos casos se puede promediar el valor de los pixeles o simplemente dejar uno de los dos. \n",
    "\n",
    "Para trabajar con la interpolación bicubica necesitamos conocer los valores de $f_x$, $f_y$ y $f_{xy}$. En el caso de las imagenes solo tenemos acceso al valor de cada pixel por lo que deberemos estimar cual es el valor de estos. Para estimar $f_x$ haremos lo siguiente:"
   ]
  },
  {
   "cell_type": "markdown",
   "metadata": {},
   "source": [
    "Para estimar el valor de $f_x$ en cada pixel haremos una interpolación con los algoritmos conocidos, usando tres pixels en dirección de las filas, luego derivaremos el polinomio obtenido y finalmente evaluaremos en la posición de interes. La misma idea aplica para $f_y$ solo que ahora interpolaremos en dirección de las columnas."
   ]
  },
  {
   "cell_type": "markdown",
   "metadata": {},
   "source": [
    "<img src=\"img5.png\" width=\"60%\"/>"
   ]
  },
  {
   "cell_type": "markdown",
   "metadata": {},
   "source": [
    "Por ejemplo si queremos obtener el valor de $f_x$ en la posición $(0,0)$ (imagen de la izquierda) entonces haremos una interpolación de Lagrange utilizando los pixeles $(0,0),(0,1)$ y $(0,2)$. Derivaremos el polinomio interpolador y evaluaremos en $(0,0)$. Por otro lado si queremos obtener el valor de $f_y$ en la posición $(0,0)$ (imagen de la derecha) entonces interpolaremos los pixeles $(0,0),(1,0)$ y $(2,0)$. Luego derivaremos el polinomio interpolador y evaluaremos en $(0,0)$."
   ]
  },
  {
   "cell_type": "markdown",
   "metadata": {},
   "source": [
    "Para obtener $f_{xy}$ seguiremos la idea anterior. Solo que esta vez se utilizaran los valores de $f_y$ y se interpolaran estos en dirección de las filas."
   ]
  },
  {
   "cell_type": "markdown",
   "metadata": {},
   "source": [
    "# Preguntas"
   ]
  },
  {
   "cell_type": "code",
   "execution_count": 31,
   "metadata": {
    "scrolled": false
   },
   "outputs": [
    {
     "data": {
      "image/png": "[encoded data removed]",
      "text/plain": [
       "<Figure size 432x288 with 1 Axes>"
      ]
     },
     "metadata": {
      "needs_background": "light"
     },
     "output_type": "display_data"
    }
   ],
   "source": [
    "#Codigo para abrir y visualizar imágenes\n",
    "img = Image.open('cat.png')\n",
    "array=np.array(img)\n",
    "imgplot = plt.imshow(array)\n",
    "plt.show()"
   ]
  },
  {
   "cell_type": "markdown",
   "metadata": {},
   "source": [
    "## 1. Interpolación bicubica"
   ]
  },
  {
   "cell_type": "markdown",
   "metadata": {},
   "source": [
    "### 1.1  Obtener derivadas (30 puntos)\n",
    "\n",
    "Implemente la función `derivativeValues` que reciba como input un arreglo con valores, el método de interpolación y si es que se considera el uso de  los puntos de chebyshev . La función debe retornar un arreglo de igual dimensión con los valores de las derivadas de los puntos obtenidas\n",
    "\n",
    "Los métodos de interpolación serán representados por los siguientes valores\n",
    "\n",
    "* Interpolación de lagrange: `'lagrange'`\n",
    "* Diferencias divididas de Newton: `'newton'`\n",
    "* Spline cubica: `'spline3'`\n"
   ]
  },
  {
   "cell_type": "code",
   "execution_count": 3,
   "metadata": {},
   "outputs": [],
   "source": [
    "# Función proveniente del repositorio del curso.\n",
    "# Calcula y retorna los puntos de Chebyshev\n",
    "def Chebyshev_points(xmin,xmax,n):\n",
    "    ns = np.arange(1,n+1)\n",
    "    x = np.cos((2*ns-1)*np.pi/(2*n))\n",
    "    #y = np.sin((2*ns-1)*np.pi/(2*n))\n",
    "    return (xmin+xmax)/2 + (xmax-xmin)*x/2\n",
    "\n",
    "# Función proveniente del repositorio del curso.\n",
    "# Retorna los coeficientes de Diferencias Divididas de Newton\n",
    "def Divided_Differences(x, y):\n",
    "    dd = np.array([y])\n",
    "    dd = dd.astype(\"int32\")\n",
    "    for i in range(len(x)-1):\n",
    "        ddi = []\n",
    "        for a in range(len(x)-i-1):\n",
    "            ddi.append((dd[i][a+1]-dd[i][a])/(x[a+i+1]-x[a]))\n",
    "        ddi = np.append(ddi,np.full((len(x)-len(ddi),),0.0))\n",
    "        dd = np.append(dd,[ddi],axis=0)\n",
    "        \n",
    "    return np.array(dd)\n",
    "\n",
    "# Función proveniente del repositorio del curso.\n",
    "# Retorna un diccionario que contiene el polinomio interpolador\n",
    "def Newton(x, y):\n",
    "    # We calculate the divided differences and store them in a data structure\n",
    "    dd = Divided_Differences(x,y)\n",
    "    \n",
    "    # Finally, we return a data structure with our interpolating polynomial\n",
    "    D = {'M':'Newton',\n",
    "         'P':dd[:,0],\n",
    "         'x':x,\n",
    "         'y':y}\n",
    "    return D\n",
    "\n",
    "def derivativeValues(values, method, cheb):\n",
    "    \"\"\"\n",
    "    Parameters\n",
    "    ----------\n",
    "    values:\t(int array) points values\n",
    "    method:\t(string)\tinterpolation method\n",
    "    cheb:\t(boolean)\tif chebyshev points are used\n",
    "\n",
    "    Returns\n",
    "    -------\n",
    "    d:\t(float array) derivative value of interpolated points\n",
    "\n",
    "    \"\"\"\n",
    "    n = values.size\n",
    "    d = -1\n",
    "    if(cheb):\n",
    "        xi = Chebyshev_points(1, n, n)\n",
    "        xi.sort()\n",
    "    else:\n",
    "        xi = np.linspace(1, n, n)\n",
    "        \n",
    "    if(method == \"lagrange\"):\n",
    "        pol = interpolate.lagrange(xi, values)\n",
    "        polPrima = pol.deriv()\n",
    "        polPrima = np.vectorize(polPrima)\n",
    "        d = polPrima(xi)\n",
    "    elif(method == \"newton\"):\n",
    "        D = Newton(xi, values)\n",
    "        coef = D['P']\n",
    "        x = sp.symbols(\"x\")\n",
    "        expr = coef[0]\n",
    "        expr_aux = 1\n",
    "        for i in range(1, n): #Iteración para reconstruir el polinomio interpolador de Newton\n",
    "            expr_aux *= (x-xi[i-1])   \n",
    "            expr += coef[i]*expr_aux\n",
    "        polPrima = sp.Derivative(expr)\n",
    "        polPrima = polPrima.doit()\n",
    "        polPrima = lambdify(x, polPrima)\n",
    "        polPrima = np.vectorize(polPrima)\n",
    "        d = polPrima(xi)\n",
    "    elif(method == \"spline3\"):\n",
    "        pol = interpolate.CubicSpline(xi, values)\n",
    "        polPrima = pol.derivative()\n",
    "        polPrima = np.vectorize(polPrima)\n",
    "        d = polPrima(xi)\n",
    "    else:\n",
    "        pass\n",
    "    return d"
   ]
  },
  {
   "cell_type": "markdown",
   "metadata": {},
   "source": [
    "\n",
    "### 1.2 Interpolación de imagen (50 puntos)\n",
    "Implemente la función `bicubicInterpolation` que reciba como input la matriz de la imagen y cuantos píxeles extra se quiere agregar entre los píxeles originales y el algoritmo de interpolación a utilizar. La función debe retornar la matriz con la imagen de dimensión nueva. Considere que se debe aplicar el método de interpolación en cada canal RGB por separado."
   ]
  },
  {
   "cell_type": "code",
   "execution_count": 4,
   "metadata": {},
   "outputs": [],
   "source": [
    "\n",
    "\n",
    "def derivarCanal(canal, interiorPixels, method, cheb, x = True):\n",
    "    \"\"\"\n",
    "    Parameters\n",
    "    ----------\n",
    "    canal:\t(nxn array) Uno de los canales RGB\n",
    "    interiorPixels:\t(int)\tinterpolation method\n",
    "    method:\t(string)\tinterpolation method\n",
    "    cheb:\t(boolean)\tif chebyshev points are used\n",
    "    x:\t(boolean)\t Si la derivada se calcula a lo largo de la horizontal\n",
    "\n",
    "    Returns\n",
    "    -------\n",
    "    derivada:\t(nxn array) matriz con los valores de la derivada\n",
    "    \"\"\"\n",
    "    \n",
    "    n = canal.shape[0]\n",
    "    derivada = np.zeros((n,n))\n",
    "    canal_aux = np.copy(canal)\n",
    "    if(not x):\n",
    "        canal_aux = canal_aux.T # Se usa la traspuesta en caso de que se calcule la derivada en y\n",
    "    flag = True\n",
    "    for i in range(0,n):\n",
    "        for j in range(1,n-1):\n",
    "            values = np.array([canal_aux[i][j-1], canal_aux[i][j], canal_aux[i][j+1]])\n",
    "            p1, p2, p3 = derivativeValues(values, method, cheb)\n",
    "            if(j == 1):\n",
    "                derivada[i][0] = p1\n",
    "            elif(j == n-2):\n",
    "                derivada[i][n-1] = p3\n",
    "            derivada[i][j] = p2\n",
    "    if(not x):\n",
    "        derivada = derivada.T # Se retorna la traspuesta en caso de que se calcule la derivada en y\n",
    "    return derivada\n",
    "\n",
    "\n",
    "def bicubicInterpolation(image, interiorPixels, method,cheb):\n",
    "    \"\"\"\n",
    "    Parameters\n",
    "    ----------\n",
    "    image:\t(nxnx3 array) image array in RGB format\n",
    "    interiorPixels:\t(int)\tinterpolation method\n",
    "    method:\t(string)\tinterpolation method\n",
    "    cheb:\t(boolean)\tif chebyshev points are used\n",
    "\n",
    "\n",
    "    Returns\n",
    "    -------\n",
    "    newImage:\t(nxnx3 array) image array in RGB format\n",
    "\n",
    "    \"\"\"\n",
    "    n = image.shape[0]\n",
    "    matrizAux = image.reshape(n*n,3)\n",
    "    R = matrizAux[:,0].reshape(n,n) # Se separan los canales en distintas matrices\n",
    "    G = matrizAux[:,1].reshape(n,n)\n",
    "    B = matrizAux[:,2].reshape(n,n)\n",
    "    RGB = [R,G,B]\n",
    "    \n",
    "    \n",
    "    new_R = np.zeros((n+interiorPixels*(n-1),n+interiorPixels*(n-1)))\n",
    "    new_G = np.zeros((n+interiorPixels*(n-1),n+interiorPixels*(n-1))) # Se definen las nuevas matrices para cada canal\n",
    "    new_B = np.zeros((n+interiorPixels*(n-1),n+interiorPixels*(n-1)))\n",
    "    new_RGB = [new_R, new_G, new_B]\n",
    "    cont = 0\n",
    "    for newCanal in new_RGB:\n",
    "        for i in range(n):\n",
    "            for j in range(n):\n",
    "                newCanal[i+i*interiorPixels][j+j*interiorPixels] = RGB[cont][i][j]\n",
    "        cont += 1\n",
    "    \n",
    "    # Matriz inversa de A, para resolver el sistema de ecuaciones\n",
    "    # y obtener los coeficientes de la superficie interpoladora\n",
    "    A_inv = np.array([[1,0,0,0,0,0,0,0,0,0,0,0,0,0,0,0],\n",
    "                     [0,0,0,0,1,0,0,0,0,0,0,0,0,0,0,0],\n",
    "                     [-3,3,0,0,-2,-1,0,0,0,0,0,0,0,0,0,0],\n",
    "                     [2,-2,0,0,1,1,0,0,0,0,0,0,0,0,0,0],\n",
    "                     [0,0,0,0,0,0,0,0,1,0,0,0,0,0,0,0],\n",
    "                     [0,0,0,0,0,0,0,0,0,0,0,0,1,0,0,0],\n",
    "                     [0,0,0,0,0,0,0,0,-3,3,0,0,-2,-1,0,0],\n",
    "                     [0,0,0,0,0,0,0,0,2,-2,0,0,1,1,0,0],\n",
    "                     [-3,0,3,0,0,0,0,0,-2,0,-1,0,0,0,0,0],\n",
    "                     [0,0,0,0,-3,0,3,0,0,0,0,0,-2,0,-1,0],\n",
    "                     [9,-9,-9,9,6,3,-6,-3,6,-6,3,-3,4,2,2,1],\n",
    "                     [-6,6,6,-6,-3,-3,3,3,-4,4,-2,2,-2,-2,-1,-1],\n",
    "                     [2,0,-2,0,0,0,0,0,1,0,1,0,0,0,0,0],\n",
    "                     [0,0,0,0,2,0,-2,0,0,0,0,0,1,0,1,0],\n",
    "                     [-6,6,6,-6,-4,-2,4,2,-3,3,-3,3,-2,-1,-2,-1],\n",
    "                     [4,-4,-4,4,2,2,-2,-2,2,-2,2,-2,1,1,1,1]])\n",
    "    \n",
    "    cont = 0\n",
    "    for canal in RGB: # Iteración por cada canal RGB\n",
    "        fx = derivarCanal(canal, interiorPixels, method, cheb, x = True)\n",
    "        fy = derivarCanal(canal, interiorPixels, method, cheb, x = False) # Se calculan las derivadas\n",
    "        fxy = derivarCanal(fy, interiorPixels, method, cheb, x = True)\n",
    "        for i in range(n-1):\n",
    "            for j in range(n-1):\n",
    "                f = [canal[i][j], canal[i+1][j], canal[i][j+1], canal[i+1][j+1],\n",
    "                     fx[i][j], fx[i+1][j], fx[i][j+1], fx[i+1][j+1],\n",
    "                     fy[i][j], fy[i+1][j], fy[i][j+1], fy[i+1][j+1],\n",
    "                     fxy[i][j], fxy[i+1][j], fxy[i][j+1], fxy[i+1][j+1]]\n",
    "                alfa = A_inv.dot(f) # Se obtienen los coeficientes\n",
    "                x,y = sp.symbols(\"x y\")\n",
    "                cont2 = 0\n",
    "                expr = 0\n",
    "                for k in range(4):\n",
    "                    for l in range(4):\n",
    "                        expr += alfa[cont2]*(x**l)*(y**k) # Se crea la superficie interpoladora\n",
    "                        cont2 += 1\n",
    "                p = lambdify([x,y], expr)\n",
    "                eje = np.linspace(0,1,interiorPixels+2)\n",
    "                for k in range(interiorPixels+2): # Iteraciones para rellenar los nuevos canales\n",
    "                    for l in range(interiorPixels+2):\n",
    "                        if((k == 0 and l == 0) or (k == 0 and l == interiorPixels+1) or (k == interiorPixels+1 and l == 0) or (k == interiorPixels+1 and l == interiorPixels+1)):\n",
    "                            continue\n",
    "                        new_RGB[cont][i+i*interiorPixels+k][j+j*interiorPixels+l] = p(eje[k], eje[l]) # PAPOPE\n",
    "                        if(new_RGB[cont][i+i*interiorPixels+k][j+j*interiorPixels+l] > 255):\n",
    "                            new_RGB[cont][i+i*interiorPixels+k][j+j*interiorPixels+l] = 255\n",
    "                        elif(new_RGB[cont][i+i*interiorPixels+k][j+j*interiorPixels+l] < 0):\n",
    "                            new_RGB[cont][i+i*interiorPixels+k][j+j*interiorPixels+l] = 0\n",
    "        cont += 1\n",
    "    newImage = np.zeros(((n+interiorPixels*(n-1))*(n+interiorPixels*(n-1)), 3))     \n",
    "    newImage[:,0] = new_R.reshape((n+interiorPixels*(n-1))*(n+interiorPixels*(n-1)))\n",
    "    newImage[:,1] = new_G.reshape((n+interiorPixels*(n-1))*(n+interiorPixels*(n-1))) # Se unen nuevamente los canales\n",
    "    newImage[:,2] = new_B.reshape((n+interiorPixels*(n-1))*(n+interiorPixels*(n-1))) # en una sola matriz\n",
    "    newImage = newImage.reshape(n+interiorPixels*(n-1), n+interiorPixels*(n-1), 3)\n",
    "    newImage = newImage.astype('int32')\n",
    "    return newImage"
   ]
  },
  {
   "cell_type": "markdown",
   "metadata": {},
   "source": [
    "## 2. Evaluacion de algoritmos\n",
    "\n"
   ]
  },
  {
   "cell_type": "markdown",
   "metadata": {},
   "source": [
    "### 2.1 Tiempo de ejecucion \n",
    "Implemente la funcion `timeInterpolation` que mida el tiempo de interpolacion de una imagen dado el algoritmo de interpolacion , en segundos.(5 puntos)"
   ]
  },
  {
   "cell_type": "code",
   "execution_count": 5,
   "metadata": {},
   "outputs": [],
   "source": [
    "def timeInterpolation(image, interiorPixels, method,cheb):\n",
    "    \"\"\"\n",
    "    Parameters\n",
    "    ----------\n",
    "    image:\t(nxnx3 array) image array in RGB format\n",
    "    interiorPixels:\t(int)\tinterpolation method\n",
    "    method:\t(string)\tinterpolation method\n",
    "    cheb:\t(boolean)\tif chebyshev points are used\n",
    "\n",
    "\n",
    "    Returns\n",
    "    -------\n",
    "    tiempo:\t(float) time in seconds\n",
    "\n",
    "    \"\"\"\n",
    "    t1 = time.time()\n",
    "    bicubicInterpolation(image, interiorPixels, method,cheb)\n",
    "    t2 = time.time()\n",
    "    tiempo = t2-t1\n",
    "    return tiempo"
   ]
  },
  {
   "cell_type": "markdown",
   "metadata": {},
   "source": [
    "***Pregunta: ¿Cual es el metodo que presenta mayor velocidad en general? (5 puntos)***"
   ]
  },
  {
   "cell_type": "markdown",
   "metadata": {},
   "source": [
    "En general, el método de Lagrange presenta mayor velocidad, probando para distintas cantidades de pixeles interiores y variando en si se hace uso de puntos de Chebyshev o no."
   ]
  },
  {
   "cell_type": "markdown",
   "metadata": {},
   "source": [
    "### 2.2 Calculo de error\n",
    "Implemente la funcion `errorInterpolation` la cual debe obtener el error de la imagen obtenida comparandola con una de referencia. El error debe ser calculado utilizando el indice SSIM (Structural similarity) (5 puntos)"
   ]
  },
  {
   "cell_type": "code",
   "execution_count": 6,
   "metadata": {},
   "outputs": [],
   "source": [
    "def errorInterpolation(original,new):\n",
    "    \"\"\"\n",
    "    Parameters\n",
    "    ----------\n",
    "    image:\t(nxn array) original image array in RGB format\n",
    "    new:\t(nxn array) new image array in RGB format obtained from interpolation\n",
    "\n",
    "\n",
    "    Returns\n",
    "    -------\n",
    "    error:\t(float) difference between images \n",
    "\n",
    "    \"\"\"\n",
    "    error = 1 - ssim(original, new, multichannel = True, data_range = original.shape[0])\n",
    "    return error"
   ]
  },
  {
   "cell_type": "markdown",
   "metadata": {},
   "source": [
    "***Pregunta: ¿Cual metodo presenta menor error? (5 puntos)***"
   ]
  },
  {
   "cell_type": "markdown",
   "metadata": {},
   "source": [
    "En general todos poseen casi el mismo error, sin embargo Lagrange en ciertos casos difiere en 1 unidad respecto a los demás métodos, siendo este menor."
   ]
  },
  {
   "cell_type": "markdown",
   "metadata": {},
   "source": [
    "# Consideraciones"
   ]
  },
  {
   "cell_type": "markdown",
   "metadata": {},
   "source": [
    "* Solo trabajaremos con imagenes cuadradas\n",
    "* En el caso que el valor interpolado de un punto sea mayor a 255 o menor a 0, este se trunca a 255 o 0 respectivamente\n",
    "* Esta permitido el uso de sympy para calcular derivadas y para construir el polinomio interpolador \n",
    "* El calculo de error puede ser calculado utilizando la imagen en escala de grises [(ejemplo)](https://scikit-image.org/docs/dev/auto_examples/transform/plot_ssim.html)"
   ]
  }
 ],
 "metadata": {
  "kernelspec": {
   "display_name": "Python 3",
   "language": "python",
   "name": "python3"
  },
  "language_info": {
   "codemirror_mode": {
    "name": "ipython",
    "version": 3
   },
   "file_extension": ".py",
   "mimetype": "text/x-python",
   "name": "python",
   "nbconvert_exporter": "python",
   "pygments_lexer": "ipython3",
   "version": "3.8.5"
  }
 },
 "nbformat": 4,
 "nbformat_minor": 4
}
